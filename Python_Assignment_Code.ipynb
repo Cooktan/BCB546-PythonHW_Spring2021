{
 "cells": [
  {
   "cell_type": "markdown",
   "metadata": {},
   "source": [
    "# BCB546X-Python Assignment\n",
    "## Authors: Dr. X and Tanner M. Cook\n",
    "\n",
    "### May 5th, 2021\n",
    "\n",
    "This document will contain the code provided by Dr. X with additions and documentation from Tanner M. Cook"
   ]
  },
  {
   "cell_type": "code",
   "execution_count": null,
   "metadata": {},
   "outputs": [],
   "source": [
    "# Import dependencies needed for analysis\n",
    "from Bio import SeqIO\n",
    "from Bio.Data import CodonTable\n",
    "import pandas as pd"
   ]
  },
  {
   "cell_type": "code",
   "execution_count": null,
   "metadata": {},
   "outputs": [],
   "source": [
    "# 1\n",
    "def get_sequences_from_file(fasta_fn):  #(1,2) This defines the function name as \"get_sequences_from_file\" fasta_fn=parameters\n",
    "    sequence_data_dict = {}\n",
    "    for record in SeqIO.parse(fasta_fn, \"fasta\"):  #(3) Will take a file name and format name(fasta), and return a SeqRecod iterator (Ability to call individual elements)\n",
    "        description = record.description.split()   # Will split the record description\n",
    "        species_name = description[1] + \" \" + description[2] # Will take the split into species name\n",
    "        sequence_data_dict[species_name] = record.seq #Will take the nucleotide information\n",
    "    return(sequence_data_dict) # Returns an output containing the species and nucleotide information. From the fasta file, the ID and descriptions are not called.\n",
    "\n",
    "#sources= (1)https://www.programiz.com/python-programming/function; (2)https://eeob-biodata.github.io/BCB546X-python/02-datatypes/\n",
    "    # (3) https://biopython.org/wiki/SeqIO"
   ]
  },
  {
   "cell_type": "code",
   "execution_count": null,
   "metadata": {},
   "outputs": [],
   "source": [
    "get_sequences_from_file(\"bears_cytb.fasta\")"
   ]
  },
  {
   "cell_type": "code",
   "execution_count": null,
   "metadata": {
    "scrolled": true
   },
   "outputs": [],
   "source": [
    "#2\n",
    "###### YOUR STRING-TRANSLATE FUNCTION ########\n",
    "## Write a function that translates sequences\n",
    "## All sequences start at codon position 1\n",
    "## Complete a function that translates using a loop over the string of nucleotides\n",
    "## Here is  some pseudo-code and suggestions\n",
    "## feel free to change the function and variable names\n",
    "def translate_function(string_nucleotides): \n",
    "     mito_table = CodonTable.unambiguous_dna_by_name[\"Vertebrate Mitochondrial\"] # this should work using BioPython (be sure to check what this returns)\n",
    "    for-loop through every 3rd position in string_nucleotides to get the codon using range subsets\n",
    "        # IMPORTANT: if the sequence has a stop codon at the end, you should leave it off\n",
    "        # this is how you can retrieve the amino acid: mito_table.forward_table[codon]\n",
    "#         add the aa to aa_seq_string\n",
    "#     return(aa_seq_string)\n",
    "\n"
   ]
  },
  {
   "cell_type": "code",
   "execution_count": null,
   "metadata": {},
   "outputs": [],
   "source": [
    "#def translate_function(string_nucleotides): \n",
    " #   aa_seq_string={}\n",
    "  #  mito_table = CodonTable.unambiguous_dna_by_name[\"Vertebrate Mitochondrial\"] # this should woerk using BioPython (be sure to check what this returns)\n",
    "   # for dna_record in SeqIO.parse(string_nucleotides, 'fasta'):\n",
    "    #    dna_seqs = [dna_record.seq]  \n",
    "     #   aa_seqs = (s[i:].translate(mito_table) for i in range(3) for s in dna_seqs)\n",
    "      #  mito_table.forward_table[codon]\n",
    "    #return(aa_seq_string)\n"
   ]
  },
  {
   "cell_type": "code",
   "execution_count": null,
   "metadata": {},
   "outputs": [],
   "source": [
    "## 3 ##\n",
    "####### YOUR ALTERNATIVE FUNCTION ########\n",
    "## Is there a better way to write the translation function? (Hint: yes there is.) \n",
    "## Perhaps using available BioPython library utilities?\n",
    "## Please also write this function.\n",
    "from Bio.SeqRecord import SeqRecord\n",
    "\n",
    "def CDS_translation(FASTA):\n",
    "    with open(\"AAseq.fasta\", 'w') as aa_fa:\n",
    "        for dna_record in SeqIO.parse(FASTA, 'fasta'):   #Select dna for each species in the parsed file\n",
    "        \n",
    "            dna_seqs = [dna_record.seq]                                #Set as new variable and use DNA seq\n",
    "            aa_seqs = (s[i:].translate(to_stop=True) for i in range(3) for s in dna_seqs)  #Translate the DNA to a stop codon\n",
    "            max_aa = max(aa_seqs, key=len)                                                 #The longest iteration is saved for each nucleotide\n",
    "            aa_record = SeqRecord(max_aa, id=dna_record.id, description=\"translated sequence\")\n",
    "            SeqIO.write(aa_record, aa_fa, 'fasta') \n",
    "        \n",
    "        \n",
    "        \n",
    "        #Source: https://stackoverflow.com/questions/49073217/how-to-use-biopython-to-translate-a-series-of-dna-sequences-in-a-fasta-file-and\n",
    "        #(MERV)"
   ]
  },
  {
   "cell_type": "code",
   "execution_count": null,
   "metadata": {},
   "outputs": [],
   "source": [
    "CDS_translation(\"bears_cytb.fasta\") #Data is saved to a file called \"AAseq.fasta\" Here, the nucleotide information will be stored as well as the record.id"
   ]
  },
  {
   "cell_type": "code",
   "execution_count": null,
   "metadata": {},
   "outputs": [],
   "source": [
    "#4\n",
    "from Bio.SeqUtils.ProtParam import ProteinAnalysis\n",
    "from Bio.SeqIO import FastaIO\n",
    "\n",
    "def Molecular_weight(FASTA):\n",
    "    with open(FASTA) as fd:\n",
    "        for name, sequence in FastaIO.SimpleFastaParser(fd):\n",
    "            X = ProteinAnalysis(sequence)\n",
    "            print(name, X.molecular_weight())\n",
    "    \n",
    "    #sources:https://biopython.org/wiki/ProtParam ; https://stackoverflow.com/questions/57274871/how-do-i-calculate-percentage-amino-acid-composition-of-sequences-contained-in-a"
   ]
  },
  {
   "cell_type": "code",
   "execution_count": null,
   "metadata": {},
   "outputs": [],
   "source": [
    "Molecular_weight(\"AAseq.fasta\")"
   ]
  },
  {
   "cell_type": "code",
   "execution_count": null,
   "metadata": {},
   "outputs": [],
   "source": [
    "#5\n",
    "from Bio.SeqUtils import GC\n",
    "\n",
    "with open(\"bears_cytb.fasta\") as BC:\n",
    "    for name, sequence in FastaIO.SimpleFastaParser(BC):\n",
    "        Y = GC(sequence)\n",
    "        print(Y)\n",
    "    #Source:https://biopython.org/docs/1.75/api/Bio.SeqUtils.html; https://stackoverflow.com/questions/57274871/how-do-i-calculate-percentage-amino-acid-composition-of-sequences-contained-in-a"
   ]
  },
  {
   "cell_type": "code",
   "execution_count": null,
   "metadata": {},
   "outputs": [],
   "source": [
    "def GC_content(Fasta_fn):\n",
    "    with open(Fasta_fn) as BC:\n",
    "        for name, sequence in FastaIO.SimpleFastaParser(BC):\n",
    "            X = GC(sequence)\n",
    "        print(X)"
   ]
  },
  {
   "cell_type": "code",
   "execution_count": null,
   "metadata": {},
   "outputs": [],
   "source": [
    "GC_content(\"bears_cytb.fasta\")"
   ]
  },
  {
   "cell_type": "code",
   "execution_count": null,
   "metadata": {},
   "outputs": [],
   "source": [
    "###MAIN##"
   ]
  },
  {
   "cell_type": "code",
   "execution_count": null,
   "metadata": {},
   "outputs": [],
   "source": [
    "cytb_seqs = get_sequences_from_file(\"bears_cytb.fasta\") \n",
    "\n",
    "bears_df = pd.read_csv(\"bears_mass.csv\") # Includes only data for body mass \n",
    "species_list = list(bears_df.species)\n"
   ]
  },
  {
   "cell_type": "code",
   "execution_count": null,
   "metadata": {
    "scrolled": true
   },
   "outputs": [],
   "source": [
    "## 6 ## \n",
    "## Add two new columns to the bears DataFrame: (1) molecular weight and (2) GC content.\n",
    "## Set the value to 'NaN' to indicate that these cells are currently empty.\n",
    "\n",
    "df=pd.read_csv('bears_mass.csv')\n",
    "\n",
    "Z=(\"NaN\")\n",
    "df[\"GC_percentage\"]=Z\n",
    "df[\"molecular_weight\"]=Z\n",
    "df\n",
    "\n",
    "#Source: https://www.geeksforgeeks.org/adding-new-column-to-existing-dataframe-in-pandas/"
   ]
  },
  {
   "cell_type": "code",
   "execution_count": null,
   "metadata": {},
   "outputs": [],
   "source": [
    "## 7 ##\n",
    "## Write a for-loop that translates each sequence and also gets molecular weight and computes the GC content\n",
    "## of each translated sequence and adds those data to DataFrame\n",
    "# for key, value in cytb_seqs.items():\n",
    "#     aa_seq = nuc2aa_translate_function(value) # whichever function you prefer of #2 or #3\n",
    "#     get the molecular weight of aa_seq\n",
    "#     get the GC content of the DNA sequence\n",
    "#     fill in empty cells in DF that you created above"
   ]
  }
 ],
 "metadata": {
  "kernelspec": {
   "display_name": "Python 3",
   "language": "python",
   "name": "python3"
  },
  "language_info": {
   "codemirror_mode": {
    "name": "ipython",
    "version": 3
   },
   "file_extension": ".py",
   "mimetype": "text/x-python",
   "name": "python",
   "nbconvert_exporter": "python",
   "pygments_lexer": "ipython3",
   "version": "3.8.5"
  }
 },
 "nbformat": 4,
 "nbformat_minor": 4
}
