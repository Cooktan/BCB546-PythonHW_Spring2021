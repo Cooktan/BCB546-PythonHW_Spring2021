{
 "cells": [
  {
   "cell_type": "markdown",
   "metadata": {},
   "source": [
    "# BCB546X-Python Assignment\n",
    "## Authors: Dr. X and Tanner M. Cook\n",
    "\n",
    "### May 5th, 2021\n",
    "\n",
    "This document will contain the code provided by Dr. X with additions and documentation from Tanner M. Cook"
   ]
  },
  {
   "cell_type": "code",
   "execution_count": null,
   "metadata": {},
   "outputs": [],
   "source": [
    "# Import dependencies needed for analysis\n",
    "from Bio import SeqIO\n",
    "from Bio.Data import CodonTable\n",
    "import pandas as pd\n",
    "from Bio.SeqRecord import SeqRecord\n",
    "from Bio.SeqUtils.ProtParam import ProteinAnalysis\n",
    "from Bio.SeqIO import FastaIO\n",
    "from Bio.SeqUtils import GC\n",
    "import matplotlib.pyplot as plt\n",
    "import seaborn as sns"
   ]
  },
  {
   "cell_type": "markdown",
   "metadata": {},
   "source": [
    "## Objective 1\n",
    " This defines the function name as \"get_sequences_from_file\" fasta_fn=parameters\n",
    "This function will take a fasta file and parse with SeqIO to return a seqrecord iterator to eventually return an ouput containing the species name and nucleotide information:"
   ]
  },
  {
   "cell_type": "code",
   "execution_count": null,
   "metadata": {},
   "outputs": [],
   "source": [
    "# This defines the function name as \"get_sequences_from_file\" fasta_fn=parameters\n",
    "def get_sequences_from_file(fasta_fn):  \n",
    "    sequence_data_dict = {}\n",
    "    # Will take a file name and format name(fasta), and return a SeqRecod iterator (Ability to call individual elements)\n",
    "    for record in SeqIO.parse(fasta_fn, \"fasta\"): \n",
    "        \n",
    "         # Split the record description\n",
    "        description = record.description.split() \n",
    "        \n",
    "        # Define three dscription elements as species_name\n",
    "        species_name = description[1] + \" \" + description[2] \n",
    "        \n",
    "        # Place species name as a dictionary item and define as record.seq\n",
    "        sequence_data_dict[species_name] = record.seq \n",
    "        \n",
    "        # Returns an output containing the species and nucleotide information. From the fasta file, the ID and descriptions are not called.\n",
    "    return(sequence_data_dict) \n"
   ]
  },
  {
   "cell_type": "markdown",
   "metadata": {},
   "source": [
    "#### Sources:\n",
    "https://www.programiz.com/python-programming/function; \n",
    "https://eeob-biodata.github.io/BCB546X-python/02-datatypes/;\n",
    "https://biopython.org/wiki/SeqIO"
   ]
  },
  {
   "cell_type": "code",
   "execution_count": null,
   "metadata": {},
   "outputs": [],
   "source": [
    "get_sequences_from_file(\"bears_cytb.fasta\")"
   ]
  },
  {
   "cell_type": "markdown",
   "metadata": {},
   "source": [
    "## Objective 2\n",
    "This function will make a new fasta file containing translated sequences that originated from the original file:"
   ]
  },
  {
   "cell_type": "code",
   "execution_count": null,
   "metadata": {},
   "outputs": [],
   "source": [
    "# This function does the same as above but it insteads creates a pesudo-dictionary that accesses the individual nucleotide \n",
    "# sequences and translates them. I am having trouble accessing the \n",
    "from Bio.Seq import Seq\n",
    "def CDS_translation2(FASTA):\n",
    "        #A new data file will be written (w indicates that it will save over this file name every time)\n",
    "    with open(\"Protein.fasta\", 'w') as aa_fa:\n",
    "        \n",
    "            #This  creates a pesudo-dictionary that allows specific access to the individual nucleotide sequences.\n",
    "        bears_dict = SeqIO.to_dict(SeqIO.parse(FASTA, \"fasta\"))\n",
    "        for i in bears_dict:\n",
    "            \n",
    "            #Takes the nucleotide sequence from each bear species\n",
    "            dna_seqs = [bears_dict[i].seq]    \n",
    "            \n",
    "                #Translate the DNA to a stop codon using the vertebrate mitochrondirial table (denoted by 2)\n",
    "            aa_seqs = (s[z:].translate(2,to_stop=True) for z in range(3) for s in dna_seqs)  \n",
    "            \n",
    "                 #The longest iteration is saved for each nucleotide string\n",
    "            max_aa = max(aa_seqs, key=len) \n",
    "            \n",
    "                # Save the longest string  in aa_record with the ID, and writes to \"Protein.fasta\"\n",
    "            aa_record = SeqRecord(max_aa, id=records[i].id)\n",
    "            SeqIO.write(aa_record, aa_fa, 'fasta')   \n",
    "            \n",
    "            ## If you want an output instead of a new file being written, you can swap\n",
    "            #\"SeqIO.write(aa_record, aa_fa, 'fasta')\" for \"print(aa_record)\" while also deleting the \n",
    "            #\"with open...\" script above."
   ]
  },
  {
   "cell_type": "code",
   "execution_count": null,
   "metadata": {
    "scrolled": true
   },
   "outputs": [],
   "source": [
    "CDS_translation2(\"bears_cytb.fasta\")"
   ]
  },
  {
   "cell_type": "markdown",
   "metadata": {},
   "source": [
    "#### Sources:\n",
    "https://biopython.org/wiki/SeqIO#:~:text=If%20you%20supply%20the%20sequences,filtering%20a%20set%20of%20records;\n",
    "https://biopython.org/docs/1.75/api/Bio.SeqIO.html ; https://stackoverflow.com/questions/49073217/how-to-use-biopython-to-translate-a-series-of-dna-sequences-in-a-fasta-file-and "
   ]
  },
  {
   "cell_type": "code",
   "execution_count": null,
   "metadata": {},
   "outputs": [],
   "source": [
    "#Data is saved to a file called \"Protein.fasta\" Here, the Amino acid information will be stored as well as the record.id\n",
    "CDS_translation2(\"bears_cytb.fasta\") "
   ]
  },
  {
   "cell_type": "markdown",
   "metadata": {},
   "source": [
    "## Objective 3\n",
    "This function will translate nucleotide sequences for each pair species and output the amino acid sequences at the end:"
   ]
  },
  {
   "cell_type": "code",
   "execution_count": null,
   "metadata": {},
   "outputs": [],
   "source": [
    "def CDS_translation3(FASTA):\n",
    "    handle = open(FASTA, \"r\") \n",
    "    \n",
    "     # The data will be parsed out as a list for a raw string for each nucleotide string\n",
    "    seq_list = list(SeqIO.parse(handle, \"fasta\"))\n",
    "    handle.close()\n",
    "    \n",
    "    #Each indexed part of seq_list will represent a string of nucleotides for each bear species\n",
    "    A=(seq_list[0].seq)\n",
    "    B=(seq_list[1].seq)\n",
    "    C=(seq_list[2].seq)\n",
    "    D=(seq_list[3].seq)\n",
    "    E=(seq_list[4].seq)                  \n",
    "    F=(seq_list[5].seq)\n",
    "    G=(seq_list[6].seq)\n",
    "    H=(seq_list[7].seq)\n",
    "    I=(seq_list[8].seq)\n",
    "    liste=[A,B,C,D,E,F,G,H,I]\n",
    "    \n",
    "    # Each nucleotide sequence for its corresponding bear species will be translated using Table 2 (indicative of vertebrate mitochondrial codon table), and stop means it goes until the first stop codon\n",
    "    for i in liste:\n",
    "           print(i.translate(table=2,to_stop=True))\n",
    "        \n",
    "        "
   ]
  },
  {
   "cell_type": "markdown",
   "metadata": {},
   "source": [
    "#### Sources:\n",
    "http://biopython.org/DIST/docs/tutorial/Tutorial.html#sec25 ;\n",
    "https://eeob-biodata.github.io/BCB546X-python/06-biopython/"
   ]
  },
  {
   "cell_type": "code",
   "execution_count": null,
   "metadata": {
    "scrolled": true
   },
   "outputs": [],
   "source": [
    "CDS_translation3(\"bears_cytb.fasta\")"
   ]
  },
  {
   "cell_type": "markdown",
   "metadata": {},
   "source": [
    "## Objective 4\n",
    "This function uses the amino acid sequence from a fasta file and determines molecular weight of the resulting protein:"
   ]
  },
  {
   "cell_type": "code",
   "execution_count": null,
   "metadata": {},
   "outputs": [],
   "source": [
    "def Molecular_weight(FASTA):\n",
    "    with open(FASTA) as fd:\n",
    "         #SimpleFastaParser distinguishes the title line and the sequences for easy selection of elements\n",
    "        #The title line contains: name/ID/description\n",
    "        for ID,sequence in FastaIO.SimpleFastaParser(fd):  \n",
    "            \n",
    "            #Protein analysis will take the protein sequence as a string to ensure nothing but protein will be analyzed.\n",
    "            X = ProteinAnalysis(sequence)\n",
    "            \n",
    "             #The Amino acid sequence of each species will be selected and molecular weight will be determined\n",
    "            print(ID,X.molecular_weight())                      \n",
    "    \n",
    "    "
   ]
  },
  {
   "cell_type": "markdown",
   "metadata": {},
   "source": [
    "#### Sources:\n",
    "https://biopython.org/wiki/ProtParam ; \n",
    "https://stackoverflow.com/questions/57274871/how-do-i-calculate-percentage-amino-acid-composition-of-sequences-contained-in-a;\n",
    "https://biopython.org/docs/dev/api/Bio.SeqIO.FastaIO.html;\n",
    "https://biopython.org/wiki/ProtParam"
   ]
  },
  {
   "cell_type": "code",
   "execution_count": null,
   "metadata": {},
   "outputs": [],
   "source": [
    "Molecular_weight(\"Protein.fasta\")"
   ]
  },
  {
   "cell_type": "markdown",
   "metadata": {},
   "source": [
    "## Objective 5\n",
    "This function takes the nucleotide sequences from a fasta file and determines the GC content for each entry in the file:"
   ]
  },
  {
   "cell_type": "code",
   "execution_count": null,
   "metadata": {},
   "outputs": [],
   "source": [
    "def GC_content(Fasta_fn):\n",
    "    with open(Fasta_fn) as TC:\n",
    "    \n",
    "        # The nucleotide sequence from each bear species will be selected and the GC content will be calculated as a percentage\n",
    "        #SimpleFastaParser distinguishes the title line and the sequences for easy selection of elements\n",
    "        #The title line contains: name/ID/description\n",
    "        for name,sequence in FastaIO.SimpleFastaParser(TC):  \n",
    "            X = GC(sequence)\n",
    "            print(X)\n",
    "           #Name can be added i.e.(name,X) for more description in the output\n",
    "            "
   ]
  },
  {
   "cell_type": "markdown",
   "metadata": {},
   "source": [
    "#### Sources:\n",
    "https://biopython.org/docs/1.75/api/Bio.SeqUtils.html ; \n",
    "https://stackoverflow.com/questions/57274871/how-do-i-calculate-percentage-amino-acid-composition-of-sequences-contained-in-a;\n",
    "https://biopython.org/docs/dev/api/Bio.SeqIO.FastaIO.html"
   ]
  },
  {
   "cell_type": "code",
   "execution_count": null,
   "metadata": {},
   "outputs": [],
   "source": [
    "GC_content(\"bears_cytb.fasta\")"
   ]
  },
  {
   "cell_type": "markdown",
   "metadata": {},
   "source": [
    "# >>>>MAIN<<<<"
   ]
  },
  {
   "cell_type": "code",
   "execution_count": null,
   "metadata": {},
   "outputs": [],
   "source": [
    "#loading of files\n",
    "cytb_seqs = get_sequences_from_file(\"bears_cytb.fasta\") \n",
    "\n",
    "bears_df = pd.read_csv(\"bears_mass.csv\") # Includes only data for body mass \n",
    "species_list = list(bears_df.species)\n"
   ]
  },
  {
   "cell_type": "markdown",
   "metadata": {},
   "source": [
    "## Objective 6\n",
    "We will produce two new columns \"GC_percentage\" and \"Molecular weight\", while using 'NaN' as a place holder until these analyses are completed below."
   ]
  },
  {
   "cell_type": "code",
   "execution_count": null,
   "metadata": {
    "scrolled": true
   },
   "outputs": [],
   "source": [
    "Z=(\"NaN\")\n",
    "bears_df[\"GC_percentage\"]=Z\n",
    "bears_df[\"molecular_weight\"]=Z\n",
    "bears_df"
   ]
  },
  {
   "cell_type": "markdown",
   "metadata": {},
   "source": [
    "#### Source: \n",
    "https://www.geeksforgeeks.org/adding-new-column-to-existing-dataframe-in-pandas/"
   ]
  },
  {
   "cell_type": "code",
   "execution_count": null,
   "metadata": {},
   "outputs": [],
   "source": [
    "## 7 ##\n",
    "## Write a for-loop that translates each sequence and also gets molecular weight and computes the GC content\n",
    "## of each translated sequence and adds those data to DataFrame\n",
    "#for key, value in cytb_seqs.items():\n",
    "   # aa_seq = CDS_Translation2(FASTA) # whichever function you prefer of #2 or #3\n",
    "   # Molecular_weight=Molecular_weight(key)\n",
    "    #GC=GC_Content(FASTA)\n",
    "#     fill in empty cells in DF that you created above\n",
    "\n",
    "\n",
    "\n"
   ]
  },
  {
   "cell_type": "code",
   "execution_count": null,
   "metadata": {},
   "outputs": [],
   "source": [
    "#aa_seq = CDS_translation(\"bears_cytb.fasta\") # whichever function you prefer of #2 or #3\n",
    "#MW=Molecular_weight(\"AAseq.fasta\")\n",
    "#gc=GC_content(\"bears_cytb.fasta\")\n",
    "\n",
    "\n",
    "#df = pd.DataFrame(list(zip(gc)))\n",
    "#bears_df[\"GC_percentage\"]=gc\n",
    "#bears_df[\"molecular_weight\"]=MW\n",
    "#bears_df"
   ]
  },
  {
   "cell_type": "markdown",
   "metadata": {},
   "source": [
    "## Temporary Objective 7\n",
    "\n",
    "The values from the above functions are put into a list and added as columns to the bears_df file for visualization"
   ]
  },
  {
   "cell_type": "code",
   "execution_count": null,
   "metadata": {},
   "outputs": [],
   "source": [
    "MW=[42458.79919999999, 42414.743499999975, 42306.67349999998, 42551.98999999998, 42427.74389999999, 42560.89100000001, 42702.184499999996, 42384.82659999999, 42454.78729999998]#Outputs from the files above\n",
    "GC=[43.771929824561404,43.771929824561404,45.6140350877193,45.175438596491226,43.94736842105263,44.29824561403509,40.78947368421053,44.3859649122807,44.29824561403509]\n",
    "\n",
    "bears_df[\"GC_percentage\"]=GC\n",
    "bears_df[\"molecular_weight\"]=MW\n",
    "bears_df"
   ]
  },
  {
   "cell_type": "markdown",
   "metadata": {},
   "source": [
    "## Objective 8\n",
    "A bar chart is plotted showing the relationship of bear mass and species"
   ]
  },
  {
   "cell_type": "code",
   "execution_count": null,
   "metadata": {},
   "outputs": [],
   "source": [
    "species = bears_df[\"species\"]\n",
    "\n",
    "#Assigning variables to the columns we want to work with\n",
    "mass=bears_df[\"mass\"]  \n",
    "\n",
    "#Plot variables against each other (x-axis, y-axis)\n",
    "plt.bar(species, mass)\n",
    "\n",
    "#rotates the labels so they are readable and not clumped up together along the X-axis\n",
    "plt.xticks(rotation = 90) \n",
    "plt.xlabel('Bear Species')\n",
    "plt.ylabel('Mass')\n",
    "plt.show()\n",
    "\n"
   ]
  },
  {
   "cell_type": "markdown",
   "metadata": {},
   "source": [
    "#### Sources:\n",
    "https://towardsdatascience.com/mastering-the-bar-plot-in-python-4c987b459053 ;\n",
    "https://www.w3schools.com/python/matplotlib_labels.asp ; \n",
    "https://stackabuse.com/rotate-axis-labels-in-matplotlib/"
   ]
  },
  {
   "cell_type": "markdown",
   "metadata": {},
   "source": [
    "## Objective 8 Questions\n",
    "\n",
    "#### *Q1* What is the largest bear species? \n",
    "##### Answer:The largest bear species is *Ursus spelaeus*\n",
    "#### *Q2* What else is interesting about this species?\n",
    "##### Answer:  This is an extinct cave bear species (Wikipedia)"
   ]
  },
  {
   "cell_type": "markdown",
   "metadata": {},
   "source": [
    "## Objective 9 \n",
    "Plots a visualization of the molecular weight (y-axis) as a function of GC-content (x-axis)"
   ]
  },
  {
   "cell_type": "code",
   "execution_count": null,
   "metadata": {},
   "outputs": [],
   "source": [
    "#Makes a scatterplot of GC content vs. molecular weight\n",
    "sns.lmplot(x=\"GC_percentage\", y=\"molecular_weight\", data=bears_df, fit_reg=False) "
   ]
  },
  {
   "cell_type": "markdown",
   "metadata": {},
   "source": [
    "#### Source:\n",
    "https://eeob-biodata.github.io/BCB546X-python/05-seaborn-viz/"
   ]
  },
  {
   "cell_type": "markdown",
   "metadata": {},
   "source": [
    "## Objective 10\n",
    "Save the new DataFrame to a file called \"bears_mass_cytb.csv\""
   ]
  },
  {
   "cell_type": "code",
   "execution_count": null,
   "metadata": {},
   "outputs": [],
   "source": [
    "bears_df.to_csv(\"bears_mass_cytb.csv\")"
   ]
  },
  {
   "cell_type": "markdown",
   "metadata": {},
   "source": [
    "#### Source:\n",
    "https://datatofish.com/export-dataframe-to-csv/"
   ]
  },
  {
   "cell_type": "markdown",
   "metadata": {},
   "source": [
    "## Objective 11\n",
    "Optional fun function- Plots Mass and GC content vs species"
   ]
  },
  {
   "cell_type": "code",
   "execution_count": null,
   "metadata": {},
   "outputs": [],
   "source": [
    "#Shows the relationship between GC content and Mass of the bears. Here, there are two different Y-axis values\n",
    "fig, ax1 = plt.subplots()\n",
    "species = bears_df[\"species\"]\n",
    "mass=bears_df[\"mass\"] \n",
    "GC=bears_df[\"GC_percentage\"]\n",
    "plt.xticks(rotation = 90)\n",
    "\n",
    "ax1.set_ylabel('Mass')\n",
    "ax1.set_xlabel('Bear Species')\n",
    "ax1.plot(species,mass)                               \n",
    "\n",
    "\n",
    "\n",
    "ax2 = ax1.twinx()\n",
    "ax2.set_xlabel('Bear Species')\n",
    "ax2.set_ylabel('GC Content')\n",
    "ax2.plot(species,GC,color='green')\n",
    "\n",
    "\n",
    "plt.show()\n",
    "\n",
    "\n"
   ]
  },
  {
   "cell_type": "markdown",
   "metadata": {},
   "source": [
    "#### Sources:\n",
    "https://matplotlib.org/2.1.1/api/_as_gen/matplotlib.pyplot.plot.html;\n",
    "https://matplotlib.org/stable/gallery/subplots_axes_and_figures/two_scales.html"
   ]
  },
  {
   "cell_type": "markdown",
   "metadata": {},
   "source": [
    "## Final Thoughts\n",
    "\n",
    "This analysis looked at 9 species of bear cytochrome B sequences, assessed the GC content, and translated them to amino acid sequences. These amino acid sequences were assessed to determine the molecular weight of each cyotchrome B protein. GC, molecular weight, and bear mass (from the csv file) were compared in visual graphs."
   ]
  }
 ],
 "metadata": {
  "kernelspec": {
   "display_name": "Python 3",
   "language": "python",
   "name": "python3"
  },
  "language_info": {
   "codemirror_mode": {
    "name": "ipython",
    "version": 3
   },
   "file_extension": ".py",
   "mimetype": "text/x-python",
   "name": "python",
   "nbconvert_exporter": "python",
   "pygments_lexer": "ipython3",
   "version": "3.8.5"
  }
 },
 "nbformat": 4,
 "nbformat_minor": 4
}
