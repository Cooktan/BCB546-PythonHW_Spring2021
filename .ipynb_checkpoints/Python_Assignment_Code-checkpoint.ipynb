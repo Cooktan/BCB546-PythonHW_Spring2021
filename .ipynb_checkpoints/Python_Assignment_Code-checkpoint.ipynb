{
 "cells": [
  {
   "cell_type": "markdown",
   "metadata": {},
   "source": [
    "# BCB546X-Python Assignment\n",
    "## Authors: Dr. X and Tanner M. Cook\n",
    "\n",
    "### May 5th, 2021\n",
    "\n",
    "This document will contain the code provided by Dr. X with additions and documentation from Tanner M. Cook"
   ]
  },
  {
   "cell_type": "code",
   "execution_count": 1,
   "metadata": {},
   "outputs": [],
   "source": [
    "# Import dependencies needed for analysis\n",
    "from Bio import SeqIO\n",
    "from Bio.Data import CodonTable\n",
    "import pandas as pd\n",
    "from Bio.SeqRecord import SeqRecord\n",
    "from Bio.SeqUtils.ProtParam import ProteinAnalysis\n",
    "from Bio.SeqIO import FastaIO\n",
    "from Bio.SeqUtils import GC\n",
    "import matplotlib.pyplot as plt\n",
    "import seaborn as sns"
   ]
  },
  {
   "cell_type": "markdown",
   "metadata": {},
   "source": [
    "## Objective 1\n",
    " This defines the function name as \"get_sequences_from_file\", fasta_fn=parameters\n",
    "This function will take a fasta file and parse with SeqIO to return a seqrecord iterator to eventually return an ouput containing the species name and nucleotide information:"
   ]
  },
  {
   "cell_type": "code",
   "execution_count": 2,
   "metadata": {},
   "outputs": [],
   "source": [
    "# This defines the function name as \"get_sequences_from_file\" fasta_fn=parameters\n",
    "def get_sequences_from_file(fasta_fn):  \n",
    "    sequence_data_dict = {}\n",
    "    # Will take a file name and format name(fasta), and return a SeqRecod iterator (Ability to call individual elements)\n",
    "    for record in SeqIO.parse(fasta_fn, \"fasta\"): \n",
    "        \n",
    "         # Split the record description\n",
    "        description = record.description.split() \n",
    "        \n",
    "        # Define three dscription elements as species_name\n",
    "        species_name = description[1] + \" \" + description[2] \n",
    "        \n",
    "        # Place species name as a dictionary item and define as record.seq\n",
    "        sequence_data_dict[species_name] = record.seq \n",
    "        \n",
    "        # Returns an output containing the species and nucleotide information. From the fasta file, the ID and descriptions are not called.\n",
    "    return(sequence_data_dict) \n"
   ]
  },
  {
   "cell_type": "markdown",
   "metadata": {},
   "source": [
    "#### Sources:\n",
    "https://www.programiz.com/python-programming/function; \n",
    "https://eeob-biodata.github.io/BCB546X-python/02-datatypes/;\n",
    "https://biopython.org/wiki/SeqIO"
   ]
  },
  {
   "cell_type": "code",
   "execution_count": 3,
   "metadata": {},
   "outputs": [
    {
     "data": {
      "text/plain": [
       "{'Ursus spelaeus': Seq('ATGACCAACATCCGAAAAACCCATCCATTAGCTAAAATCATCAACAACTCATTT...AGA'),\n",
       " 'Ursus arctos': Seq('ATGACCAACATCCGAAAAACCCACCCATTAGCTAAAATCATCAACAACTCACTT...AGA'),\n",
       " 'Ursus thibetanus': Seq('ATGACCAACATCCGAAAAACCCATCCATTAGCCAAAATCATCAACAACTCACTC...AGA'),\n",
       " 'Melursus ursinus': Seq('ATGACCAACATCCGAAAAACCCACCCATTAGCTAAAATCATTAACAACTCACTC...AGA'),\n",
       " 'Ursus americanus': Seq('ATGACCAACATCCGAAAAACCCACCCATTAGCTAAAATCATCAACAACTCACTT...AGA'),\n",
       " 'Helarctos malayanus': Seq('ATGACCAACATCCGAAAAACCCACCCATTAGCTAAAATCATTAACAACTCACTT...AGA'),\n",
       " 'Ailuropoda melanoleuca': Seq('ATGATCAACATCCGAAAAACTCATCCATTAGTTAAAATTATCAACAACTCATTC...AGA'),\n",
       " 'Tremarctos ornatus': Seq('ATGACCAACATCCGAAAAACTCACCCACTAGCTAAAATCATCAACAGCTCATTC...AGA'),\n",
       " 'Ursus maritimus': Seq('ATGACCAACATCCGAAAAACCCACCCATTAGCTAAAATCATCAACAACTCATTT...AGA')}"
      ]
     },
     "execution_count": 3,
     "metadata": {},
     "output_type": "execute_result"
    }
   ],
   "source": [
    "get_sequences_from_file(\"bears_cytb.fasta\")"
   ]
  },
  {
   "cell_type": "markdown",
   "metadata": {},
   "source": [
    "## Objective 2\n",
    "This function will make a new fasta file containing translated sequences that originated from the original file:"
   ]
  },
  {
   "cell_type": "code",
   "execution_count": 4,
   "metadata": {},
   "outputs": [],
   "source": [
    "# This function does the same as above but it insteads creates a pesudo-dictionary that accesses the individual nucleotide \n",
    "# sequences and translates them. I am having trouble accessing the \n",
    "from Bio.Seq import Seq\n",
    "def CDS_translation2(FASTA):\n",
    "        #A new data file will be written (w indicates that it will save over this file name every time)\n",
    "    with open(\"Protein.fasta\", 'w') as aa_fa:\n",
    "        \n",
    "            #This  creates a pesudo-dictionary that allows specific access to the individual nucleotide sequences.\n",
    "        bears_dict = SeqIO.to_dict(SeqIO.parse(FASTA, \"fasta\"))\n",
    "        for i in bears_dict:\n",
    "            \n",
    "            #Takes the nucleotide sequence from each bear species\n",
    "            nucleotides = [bears_dict[i].seq]    \n",
    "            \n",
    "                #Translate the DNA to a stop codon using the vertebrate mitochrondirial table (denoted by 2) by looking at 3 nucleotides at a time.\n",
    "            \n",
    "            AA= (s[z:].translate(2,to_stop=True) for z in range(3) for s in nucleotides)  \n",
    "            \n",
    "                 #The longest iteration is saved for each nucleotide string\n",
    "            max_aa = max(AA, key=len) \n",
    "            \n",
    "                # Save the longest string  in aa_record with the ID, and writes to \"Protein.fasta\"\n",
    "            aa_record = SeqRecord(max_aa, id=bears_dict[i].id)\n",
    "            SeqIO.write(aa_record, aa_fa, 'fasta')   \n",
    "            \n",
    "            ## If you want an output instead of a new file being written, you can swap\n",
    "            #\"SeqIO.write(aa_record, aa_fa, 'fasta')\" for \"print(aa_record)\" while also deleting the \n",
    "            #\"with open...\" script above."
   ]
  },
  {
   "cell_type": "code",
   "execution_count": 5,
   "metadata": {
    "scrolled": true
   },
   "outputs": [
    {
     "name": "stderr",
     "output_type": "stream",
     "text": [
      "C:\\Users\\Tcook\\Anaconda3\\lib\\site-packages\\Bio\\Seq.py:2334: BiopythonWarning: Partial codon, len(sequence) not a multiple of three. Explicitly trim the sequence or add trailing N before translation. This may become an error in future.\n",
      "  warnings.warn(\n"
     ]
    }
   ],
   "source": [
    "CDS_translation2(\"bears_cytb.fasta\")"
   ]
  },
  {
   "cell_type": "markdown",
   "metadata": {},
   "source": [
    "#### Sources:\n",
    "https://biopython.org/wiki/SeqIO#:~:text=If%20you%20supply%20the%20sequences,filtering%20a%20set%20of%20records;\n",
    "https://biopython.org/docs/1.75/api/Bio.SeqIO.html ; https://stackoverflow.com/questions/49073217/how-to-use-biopython-to-translate-a-series-of-dna-sequences-in-a-fasta-file-and "
   ]
  },
  {
   "cell_type": "code",
   "execution_count": 6,
   "metadata": {},
   "outputs": [],
   "source": [
    "#Data is saved to a file called \"Protein.fasta\" Here, the Amino acid information will be stored as well as the record.id\n",
    "CDS_translation2(\"bears_cytb.fasta\") "
   ]
  },
  {
   "cell_type": "markdown",
   "metadata": {},
   "source": [
    "## Objective 3\n",
    "This function will translate nucleotide sequences for each pair species and output the amino acid sequences at the end:"
   ]
  },
  {
   "cell_type": "code",
   "execution_count": 7,
   "metadata": {},
   "outputs": [],
   "source": [
    "def CDS_translation3(FASTA):\n",
    "    handle = open(FASTA, \"r\") \n",
    "    \n",
    "     # The data will be parsed out as a list for a raw string for each nucleotide string\n",
    "    seq_list = list(SeqIO.parse(handle, \"fasta\"))\n",
    "    handle.close()\n",
    "    \n",
    "    #Each indexed part of seq_list will represent a string of nucleotides for each bear species\n",
    "    A=(seq_list[0].seq)\n",
    "    B=(seq_list[1].seq)\n",
    "    C=(seq_list[2].seq)\n",
    "    D=(seq_list[3].seq)\n",
    "    E=(seq_list[4].seq)                  \n",
    "    F=(seq_list[5].seq)\n",
    "    G=(seq_list[6].seq)\n",
    "    H=(seq_list[7].seq)\n",
    "    I=(seq_list[8].seq)\n",
    "    liste=[A,B,C,D,E,F,G,H,I]\n",
    "    \n",
    "    # Each nucleotide sequence for its corresponding bear species will be translated using Table 2 (indicative of vertebrate mitochondrial codon table), and stop means it goes until the first stop codon\n",
    "    for i in liste:\n",
    "           print(i.translate(table=2,to_stop=True))\n",
    "        \n",
    "        "
   ]
  },
  {
   "cell_type": "markdown",
   "metadata": {},
   "source": [
    "#### Sources:\n",
    "http://biopython.org/DIST/docs/tutorial/Tutorial.html#sec25 ;\n",
    "https://eeob-biodata.github.io/BCB546X-python/06-biopython/"
   ]
  },
  {
   "cell_type": "code",
   "execution_count": 8,
   "metadata": {
    "scrolled": true
   },
   "outputs": [
    {
     "name": "stdout",
     "output_type": "stream",
     "text": [
      "MTNIRKTHPLAKIINNSFIDLPTPSNISAWWNFGSLLGVCLILQILTGLFLAMHYTSDTTTAFSSITHICRDVHYGWVIRYMHANGASMFFICLFMHVGRGLYYGSYLFSETWNIGIILLLTVMATAFMGYVLPWGQMSFWGATVITNLLSAIPYIGTDLVEWIWGGFSVDKATLTRFFAFHFILPFIILALAAVHLLFLHETGSNNPSGIPSDSDKIPFHPYYTIKDILGALLLTLALAALVLFSPDLLGDPDNYTPANPLSTPPHIKPEWYFLFAYAILRFIPNKLGGVLALIFSILILAIISLLHTSKQRGMMFRPLSQCLFWLLVADLLTLTWIGGQPVEHPFIIIGQLASILYFTIPLVLMPIAGIIENNLLKW\n",
      "MTNIRKTHPLAKIINNSLIDLPTPSNISAWWNFGSLLGVCLILQILTGLFLAMHYTPDTTTAFSSVTHICRDVHYGWVIRYVHANGASIFFICLFMHVGRGLYYGSYLFSETWNIGIILLFTIMATAFMGYVLPWGQMSFWGATVITNLLSAIPYIGTDLVEWIWGGFSVDKATLTRFFAFHFILPFIILALAAVHLLFLHETGSNNPSGIPSDSDKIPFHPYYTIKDILGALLLALTLATLVLFSPDLLGDPDNYTPANPLSTPPHIKPEWYFLFAYAILRSIPNKLGGVLALIFSILILAIIPLLHTSKQRGMMFRPLSQCLFWLLVADLLTLTWIGGQPVEHPFIIIGQLASILYFTILLVLMPIAGIIENNLLKW\n",
      "MTNIRKTHPLAKIINNSLIDLPAPSNISAWWNFGSLLGMCLILQILTGLFLAMHYTSDATTAFSSVAHICRDVHYGWIIRYMHANGASMFFICLFMHVGRGLYYGSYLLSETWNIGIILLFTVMATAFMGYVLPWGQMSFWGATVITNLLSAIPYIGTDLVEWIWGGFSVDKATLTRFFAFHFILPFIILALAAVHLLFLHETGSNNPSGIPSDSDKIPFHPYYTIKDALGALLLILALATLVLFSPDLLGDPDNYTPANPLSTPPHIKPEWYFLFAYAILRSIPNKLGGVLALIFSILILAIIPLLHTSKQRGMMFRPLSQCLFWLLVADLLTLTWIGGQPVEHPFIIIGQLASILYFTILLVLMPIAGIIENNLSKW\n",
      "MTNIRKTHPLAKIINNSLIDLPAPSNISAWWNFGSLLGVCLILQILTGLFLAMHYTSDTTTAFSSVTHICRDVHYGWIIRYMHANGASMFFICLFMHVGRGLYYGSYLFSETWNTGIILLFTVMATAFMGYVLPWGQMSFWGATVITNLLSAIPYIGADLVEWIWGGFSVDKATLTRFFAFHFIFPFIILALVMVHLLFLHETGSNNPSGIPSNSDKIPFHPYYTIKDIMGALLLILALATLVLFSPDLLGDPDNYTPANPLSTPPHIKPEWYFLFAYAILRSIPNKLGGVLALIFSILILAIIPLLHTSKQRGMMFRPLSQCLFWLLVADLLTLTWIGGQPVEYPFITIGQLASILYFMILLVLMPIAGIIENNLSKW\n",
      "MTNIRKTHPLAKIINNSLIDLPTPSNISAWWNFGSLLGVCLVLQILTGLFLAMHYTSDTTTAFSSITHICRDVHYGWIIRYMHANGASMFFICLFMHVGRGLYYGSYLLSETWNIGIILLFTVMATAFMGYVLPWGQMSFWGATVITNLLSAIPYIGTDLVEWIWGGFSVNKATLTRFFAFHFILPFIILTLAAVHLLFLHETGSNNPSGIPSDSDKIPFHPYYTIKDALGALLFILALATLVLFSPDLLGDPDNYTPANPLSTPPHIKPEWYFLFAYAILRSIPNKLGGVLALIFSILILAIIPLLHTSKQRGMMFRPLSQCLFWLLVADLLTLTWIGGQPVEHPFIIIGQLASILYFTILLVLMPIAGIIENNLSKW\n",
      "MTNIRKTHPLAKIINNSLIDLPAPSNISAWWNFGSLLGVCLILQIMTGLFLAMHYTSDTTTAFSSITHICRDVHYGWIIRYMHANGASMFFICLFMHVGRGLYYGSYLFSETWNIGIILLFTVMATAFMGYVLPWGQMSFWGATVITNLLSAIPYIGTDLVEWVWGGFSVDKATLTRFFAFHFILPFIILALTAVHLLFLHETGSNNPSGIPSDSDKIPFHPYYTIKDILGALLLTLALTTLVLFSPDLLGDPDNYIPANPLSTPPHIKPEWYFLFAYAILRSIPNKLGGVLALVFSILILAIIPLLHTSKQRGMMFRPLSQCLFWLLVADLLTLTWIGGQPVEHPFTIIGQLASILYFMIFLVFMPIAGIIENNLSKW\n",
      "MINIRKTHPLVKIINNSFIDLPTPSNISTWWNFGSLLGVCLILQILTGLFLAMHYTSDTATAFSSVAHICRDVNYGWFIRYMHANGASMFFICLFMHVGRGLYYGSYLFPETWNIGIILLLTIMATAFMGYVLPWGQMSFWGATVITNLLSAIPYIGTNLVEWIWGGFSVDKATLTRFFAFHFILPFIISALAMVHLLFLHETGSNNPSGIPSDPDKIPFYPYHTIKDILGVLFLVLALMTLALFSPDLLGDPDNYTPANPLSTPPHIKPEWYFLFAYAILRSIPNKLGGVLALIFSILILTIIPLLHTSKQRSMMFRPLSQCLFWLLVADLLTLTWIGGQPVEHPFIIIGQLASILYFTILLVLMPITSIIENSLSKW\n",
      "MTNIRKTHPLAKIINSSFIDLPTPSNISAWWNFGSLLGVCLILHILTGLFLAMHYTADTTTAFSSVAHICRDVNYGWVIRYMHANGASMFFICLFMHVGRGLYYGSYLFSETWNIGIILLLTIMATAFMGYVLPWGQMSFWGATVITNLLSAIPYIGTDLVEWIWGGFSVDKATLTRFFAFHFILPFIILALAMVHLLFLHETGSNNPSGISSNSDKIPFHPYYTIKDILGVLLLLLALVTLVLFSPDLLGDPDNYTPANPVSTPLHIKPEWYFLFAYAILRSIPNKLGGVLALIFSILILAIIPLLHTSKQRGMMFRPLSQCLFWLLAADLLTLTWIGGQPVEHPLVIIGQLASILYFTILLVLMPIAGIIENNLSKW\n",
      "MTNIRKTHPLAKIINNSFIDLPTPSNISAWWNFGSLLGVCLILQILTGLFLAMHYTSDTTTAFSSVTHICRDVHYGWVIRYVHANGASMFFICLFMHVGRGLYYGSYLFSETWNIGIILLFTVMATAFMGYVLPWGQMSFWGATVITNLLSAIPYIGTDLVEWIWGGFSVDKATLTRFFAFHFILPFIILALAAVHLLFLHETGSNNPSGIPSDSDKIPFHPYYTIKDILGALLLTLALATLVLFSPDLLGDPDNYIPANPLSTPPHIKPEWYFLFAYAILRSIPNKLGGVLALIFSILILALIPLLHTSKQRGMMFRPLSQCLFWLLVADLLTLTWIGGQPVEHPFIIIGQLASILYFTILLVLMPIAGIIENNLLKW\n"
     ]
    }
   ],
   "source": [
    "CDS_translation3(\"bears_cytb.fasta\")"
   ]
  },
  {
   "cell_type": "markdown",
   "metadata": {},
   "source": [
    "## Objective 4\n",
    "This function uses the amino acid sequence from a fasta file and determines molecular weight of the resulting protein:"
   ]
  },
  {
   "cell_type": "code",
   "execution_count": 9,
   "metadata": {},
   "outputs": [],
   "source": [
    "def Molecular_weight(FASTA):\n",
    "    with open(FASTA) as fd:\n",
    "         #SimpleFastaParser distinguishes the title line and the sequences for easy selection of elements\n",
    "        #The title line contains: name/ID/description\n",
    "        for ID,sequence in FastaIO.SimpleFastaParser(fd):  \n",
    "            \n",
    "            #Protein analysis will take the protein sequence as a string to ensure nothing but protein will be analyzed.\n",
    "            X = ProteinAnalysis(sequence)\n",
    "            \n",
    "             #The Amino acid sequence of each species will be selected and molecular weight will be determined\n",
    "            print(ID,X.molecular_weight())                      \n",
    "    \n",
    "    "
   ]
  },
  {
   "cell_type": "markdown",
   "metadata": {},
   "source": [
    "#### Sources:\n",
    "https://biopython.org/wiki/ProtParam ; \n",
    "https://stackoverflow.com/questions/57274871/how-do-i-calculate-percentage-amino-acid-composition-of-sequences-contained-in-a;\n",
    "https://biopython.org/docs/dev/api/Bio.SeqIO.FastaIO.html;\n",
    "https://biopython.org/wiki/ProtParam"
   ]
  },
  {
   "cell_type": "code",
   "execution_count": 10,
   "metadata": {},
   "outputs": [
    {
     "name": "stdout",
     "output_type": "stream",
     "text": [
      "AF264047.1 <unknown description> 42458.79919999999\n",
      "AB020907.1 <unknown description> 42414.743499999975\n",
      "AB360958.1 <unknown description> 42306.67349999998\n",
      "U23562.1 <unknown description> 42551.98999999998\n",
      "AF268271.1 <unknown description> 42427.74389999999\n",
      "U18899.1 <unknown description> 42560.89100000001\n",
      "U23552.1 <unknown description> 42702.184499999996\n",
      "U23554.1 <unknown description> 42384.82659999999\n",
      "EU567096.1 <unknown description> 42454.78729999998\n"
     ]
    }
   ],
   "source": [
    "Molecular_weight(\"Protein.fasta\")"
   ]
  },
  {
   "cell_type": "markdown",
   "metadata": {},
   "source": [
    "## Objective 5\n",
    "This function takes the nucleotide sequences from a fasta file and determines the GC content for each entry in the file:"
   ]
  },
  {
   "cell_type": "code",
   "execution_count": 11,
   "metadata": {},
   "outputs": [],
   "source": [
    "def GC_content(Fasta_fn):\n",
    "    with open(Fasta_fn) as TC:\n",
    "    \n",
    "        # The nucleotide sequence from each bear species will be selected and the GC content will be calculated as a percentage\n",
    "        #SimpleFastaParser distinguishes the title line and the sequences for easy selection of elements\n",
    "        #The title line contains: name/ID/description\n",
    "        for name,sequence in FastaIO.SimpleFastaParser(TC):  \n",
    "             print(GC(sequence))\n",
    "            \n",
    "           #Name can be added i.e.(name,X) for more description in the output"
   ]
  },
  {
   "cell_type": "markdown",
   "metadata": {},
   "source": [
    "#### Sources:\n",
    "https://biopython.org/docs/1.75/api/Bio.SeqUtils.html ; \n",
    "https://stackoverflow.com/questions/57274871/how-do-i-calculate-percentage-amino-acid-composition-of-sequences-contained-in-a;\n",
    "https://biopython.org/docs/dev/api/Bio.SeqIO.FastaIO.html"
   ]
  },
  {
   "cell_type": "code",
   "execution_count": 12,
   "metadata": {},
   "outputs": [
    {
     "name": "stdout",
     "output_type": "stream",
     "text": [
      "43.771929824561404\n",
      "43.771929824561404\n",
      "45.6140350877193\n",
      "45.175438596491226\n",
      "43.94736842105263\n",
      "44.29824561403509\n",
      "40.78947368421053\n",
      "44.3859649122807\n",
      "44.29824561403509\n"
     ]
    }
   ],
   "source": [
    "GC_content(\"bears_cytb.fasta\")"
   ]
  },
  {
   "cell_type": "markdown",
   "metadata": {},
   "source": [
    "# >>>>MAIN<<<<"
   ]
  },
  {
   "cell_type": "code",
   "execution_count": 13,
   "metadata": {},
   "outputs": [],
   "source": [
    "#loading of files\n",
    "cytb_seqs = get_sequences_from_file(\"bears_cytb.fasta\") \n",
    "\n",
    "bears_df = pd.read_csv(\"bears_mass.csv\") # Includes only data for body mass \n",
    "species_list = list(bears_df.species)\n"
   ]
  },
  {
   "cell_type": "markdown",
   "metadata": {},
   "source": [
    "## Objective 6\n",
    "We will produce two new columns \"GC_percentage\" and \"Molecular weight\", while using 'NaN' as a place holder until these analyses are completed below."
   ]
  },
  {
   "cell_type": "code",
   "execution_count": 14,
   "metadata": {
    "scrolled": true
   },
   "outputs": [
    {
     "data": {
      "text/html": [
       "<div>\n",
       "<style scoped>\n",
       "    .dataframe tbody tr th:only-of-type {\n",
       "        vertical-align: middle;\n",
       "    }\n",
       "\n",
       "    .dataframe tbody tr th {\n",
       "        vertical-align: top;\n",
       "    }\n",
       "\n",
       "    .dataframe thead th {\n",
       "        text-align: right;\n",
       "    }\n",
       "</style>\n",
       "<table border=\"1\" class=\"dataframe\">\n",
       "  <thead>\n",
       "    <tr style=\"text-align: right;\">\n",
       "      <th></th>\n",
       "      <th>species</th>\n",
       "      <th>mass</th>\n",
       "      <th>GC_percentage</th>\n",
       "      <th>molecular_weight</th>\n",
       "    </tr>\n",
       "  </thead>\n",
       "  <tbody>\n",
       "    <tr>\n",
       "      <th>0</th>\n",
       "      <td>Ursus spelaeus</td>\n",
       "      <td>550.800</td>\n",
       "      <td>NaN</td>\n",
       "      <td>NaN</td>\n",
       "    </tr>\n",
       "    <tr>\n",
       "      <th>1</th>\n",
       "      <td>Ursus arctos</td>\n",
       "      <td>203.500</td>\n",
       "      <td>NaN</td>\n",
       "      <td>NaN</td>\n",
       "    </tr>\n",
       "    <tr>\n",
       "      <th>2</th>\n",
       "      <td>Ursus thibetanus</td>\n",
       "      <td>99.714</td>\n",
       "      <td>NaN</td>\n",
       "      <td>NaN</td>\n",
       "    </tr>\n",
       "    <tr>\n",
       "      <th>3</th>\n",
       "      <td>Melursus ursinus</td>\n",
       "      <td>100.030</td>\n",
       "      <td>NaN</td>\n",
       "      <td>NaN</td>\n",
       "    </tr>\n",
       "    <tr>\n",
       "      <th>4</th>\n",
       "      <td>Ursus americanus</td>\n",
       "      <td>110.560</td>\n",
       "      <td>NaN</td>\n",
       "      <td>NaN</td>\n",
       "    </tr>\n",
       "    <tr>\n",
       "      <th>5</th>\n",
       "      <td>Helarctos malayanus</td>\n",
       "      <td>47.020</td>\n",
       "      <td>NaN</td>\n",
       "      <td>NaN</td>\n",
       "    </tr>\n",
       "    <tr>\n",
       "      <th>6</th>\n",
       "      <td>Ailuropoda melanoleuca</td>\n",
       "      <td>118.200</td>\n",
       "      <td>NaN</td>\n",
       "      <td>NaN</td>\n",
       "    </tr>\n",
       "    <tr>\n",
       "      <th>7</th>\n",
       "      <td>Tremarctos ornatus</td>\n",
       "      <td>140.700</td>\n",
       "      <td>NaN</td>\n",
       "      <td>NaN</td>\n",
       "    </tr>\n",
       "    <tr>\n",
       "      <th>8</th>\n",
       "      <td>Ursus maritimus</td>\n",
       "      <td>425.100</td>\n",
       "      <td>NaN</td>\n",
       "      <td>NaN</td>\n",
       "    </tr>\n",
       "  </tbody>\n",
       "</table>\n",
       "</div>"
      ],
      "text/plain": [
       "                  species     mass GC_percentage molecular_weight\n",
       "0          Ursus spelaeus  550.800           NaN              NaN\n",
       "1            Ursus arctos  203.500           NaN              NaN\n",
       "2        Ursus thibetanus   99.714           NaN              NaN\n",
       "3        Melursus ursinus  100.030           NaN              NaN\n",
       "4        Ursus americanus  110.560           NaN              NaN\n",
       "5     Helarctos malayanus   47.020           NaN              NaN\n",
       "6  Ailuropoda melanoleuca  118.200           NaN              NaN\n",
       "7      Tremarctos ornatus  140.700           NaN              NaN\n",
       "8         Ursus maritimus  425.100           NaN              NaN"
      ]
     },
     "execution_count": 14,
     "metadata": {},
     "output_type": "execute_result"
    }
   ],
   "source": [
    "Z=(\"NaN\")\n",
    "bears_df[\"GC_percentage\"]=Z\n",
    "bears_df[\"molecular_weight\"]=Z\n",
    "bears_df"
   ]
  },
  {
   "cell_type": "markdown",
   "metadata": {},
   "source": [
    "#### Source: \n",
    "https://www.geeksforgeeks.org/adding-new-column-to-existing-dataframe-in-pandas/"
   ]
  },
  {
   "cell_type": "code",
   "execution_count": 15,
   "metadata": {},
   "outputs": [],
   "source": [
    "## 7 ##\n",
    "## Write a for-loop that translates each sequence and also gets molecular weight and computes the GC content\n",
    "## of each translated sequence and adds those data to DataFrame. These are using the functions defined above.\n",
    "#for sequence in cytb_seqs.items():\n",
    "   # aa_seq = CDS_translation2(sequence) \n",
    "   # molecular_weight=Molecular_weight((aa_seq))\n",
    "   # GC=GC_Content(\"bears_cytb.fasta\")\n",
    "    \n",
    "   \n",
    "    #bears_df.iloc[\"GC_percentage\"]=Molecular_weight\n",
    "    #bears_df.iloc[\"molecular_weight\"]=GC\n",
    "\n",
    "\n",
    "\n"
   ]
  },
  {
   "cell_type": "markdown",
   "metadata": {},
   "source": [
    "## Temporary Objective 7\n",
    "\n",
    "The values from the above functions are put into a list and added as columns to the bears_df file for visualization"
   ]
  },
  {
   "cell_type": "code",
   "execution_count": 16,
   "metadata": {},
   "outputs": [
    {
     "data": {
      "text/html": [
       "<div>\n",
       "<style scoped>\n",
       "    .dataframe tbody tr th:only-of-type {\n",
       "        vertical-align: middle;\n",
       "    }\n",
       "\n",
       "    .dataframe tbody tr th {\n",
       "        vertical-align: top;\n",
       "    }\n",
       "\n",
       "    .dataframe thead th {\n",
       "        text-align: right;\n",
       "    }\n",
       "</style>\n",
       "<table border=\"1\" class=\"dataframe\">\n",
       "  <thead>\n",
       "    <tr style=\"text-align: right;\">\n",
       "      <th></th>\n",
       "      <th>species</th>\n",
       "      <th>mass</th>\n",
       "      <th>GC_percentage</th>\n",
       "      <th>molecular_weight</th>\n",
       "    </tr>\n",
       "  </thead>\n",
       "  <tbody>\n",
       "    <tr>\n",
       "      <th>0</th>\n",
       "      <td>Ursus spelaeus</td>\n",
       "      <td>550.800</td>\n",
       "      <td>43.771930</td>\n",
       "      <td>42458.7992</td>\n",
       "    </tr>\n",
       "    <tr>\n",
       "      <th>1</th>\n",
       "      <td>Ursus arctos</td>\n",
       "      <td>203.500</td>\n",
       "      <td>43.771930</td>\n",
       "      <td>42414.7435</td>\n",
       "    </tr>\n",
       "    <tr>\n",
       "      <th>2</th>\n",
       "      <td>Ursus thibetanus</td>\n",
       "      <td>99.714</td>\n",
       "      <td>45.614035</td>\n",
       "      <td>42306.6735</td>\n",
       "    </tr>\n",
       "    <tr>\n",
       "      <th>3</th>\n",
       "      <td>Melursus ursinus</td>\n",
       "      <td>100.030</td>\n",
       "      <td>45.175439</td>\n",
       "      <td>42551.9900</td>\n",
       "    </tr>\n",
       "    <tr>\n",
       "      <th>4</th>\n",
       "      <td>Ursus americanus</td>\n",
       "      <td>110.560</td>\n",
       "      <td>43.947368</td>\n",
       "      <td>42427.7439</td>\n",
       "    </tr>\n",
       "    <tr>\n",
       "      <th>5</th>\n",
       "      <td>Helarctos malayanus</td>\n",
       "      <td>47.020</td>\n",
       "      <td>44.298246</td>\n",
       "      <td>42560.8910</td>\n",
       "    </tr>\n",
       "    <tr>\n",
       "      <th>6</th>\n",
       "      <td>Ailuropoda melanoleuca</td>\n",
       "      <td>118.200</td>\n",
       "      <td>40.789474</td>\n",
       "      <td>42702.1845</td>\n",
       "    </tr>\n",
       "    <tr>\n",
       "      <th>7</th>\n",
       "      <td>Tremarctos ornatus</td>\n",
       "      <td>140.700</td>\n",
       "      <td>44.385965</td>\n",
       "      <td>42384.8266</td>\n",
       "    </tr>\n",
       "    <tr>\n",
       "      <th>8</th>\n",
       "      <td>Ursus maritimus</td>\n",
       "      <td>425.100</td>\n",
       "      <td>44.298246</td>\n",
       "      <td>42454.7873</td>\n",
       "    </tr>\n",
       "  </tbody>\n",
       "</table>\n",
       "</div>"
      ],
      "text/plain": [
       "                  species     mass  GC_percentage  molecular_weight\n",
       "0          Ursus spelaeus  550.800      43.771930        42458.7992\n",
       "1            Ursus arctos  203.500      43.771930        42414.7435\n",
       "2        Ursus thibetanus   99.714      45.614035        42306.6735\n",
       "3        Melursus ursinus  100.030      45.175439        42551.9900\n",
       "4        Ursus americanus  110.560      43.947368        42427.7439\n",
       "5     Helarctos malayanus   47.020      44.298246        42560.8910\n",
       "6  Ailuropoda melanoleuca  118.200      40.789474        42702.1845\n",
       "7      Tremarctos ornatus  140.700      44.385965        42384.8266\n",
       "8         Ursus maritimus  425.100      44.298246        42454.7873"
      ]
     },
     "execution_count": 16,
     "metadata": {},
     "output_type": "execute_result"
    }
   ],
   "source": [
    "MW=[42458.79919999999, 42414.743499999975, 42306.67349999998, 42551.98999999998, 42427.74389999999, 42560.89100000001, 42702.184499999996, 42384.82659999999, 42454.78729999998]#Outputs from the files above\n",
    "GC=[43.771929824561404,43.771929824561404,45.6140350877193,45.175438596491226,43.94736842105263,44.29824561403509,40.78947368421053,44.3859649122807,44.29824561403509]\n",
    "\n",
    "bears_df[\"GC_percentage\"]=GC\n",
    "bears_df[\"molecular_weight\"]=MW\n",
    "bears_df"
   ]
  },
  {
   "cell_type": "markdown",
   "metadata": {},
   "source": [
    "## Objective 8\n",
    "A bar chart is plotted showing the relationship of bear mass and species"
   ]
  },
  {
   "cell_type": "code",
   "execution_count": 17,
   "metadata": {},
   "outputs": [
    {
     "data": {
      "image/png": "[encoded data removed]",
      "text/plain": [
       "<Figure size 432x288 with 1 Axes>"
      ]
     },
     "metadata": {
      "needs_background": "light"
     },
     "output_type": "display_data"
    }
   ],
   "source": [
    "species = bears_df[\"species\"]\n",
    "\n",
    "#Assigning variables to the columns we want to work with\n",
    "mass=bears_df[\"mass\"]  \n",
    "\n",
    "#Plot variables against each other (x-axis, y-axis)\n",
    "plt.bar(species, mass)\n",
    "\n",
    "#rotates the labels so they are readable and not clumped up together along the X-axis\n",
    "plt.xticks(rotation = 90) \n",
    "plt.xlabel('Bear Species')\n",
    "plt.ylabel('Mass')\n",
    "plt.show()\n",
    "\n"
   ]
  },
  {
   "cell_type": "markdown",
   "metadata": {},
   "source": [
    "#### Sources:\n",
    "https://towardsdatascience.com/mastering-the-bar-plot-in-python-4c987b459053 ;\n",
    "https://www.w3schools.com/python/matplotlib_labels.asp ; \n",
    "https://stackabuse.com/rotate-axis-labels-in-matplotlib/"
   ]
  },
  {
   "cell_type": "markdown",
   "metadata": {},
   "source": [
    "## Objective 8 Questions\n",
    "\n",
    "#### *Q1* What is the largest bear species? \n",
    "##### Answer:The largest bear species is *Ursus spelaeus*\n",
    "#### *Q2* What else is interesting about this species?\n",
    "##### Answer:  This is an extinct cave bear species (Wikipedia)"
   ]
  },
  {
   "cell_type": "markdown",
   "metadata": {},
   "source": [
    "## Objective 9 \n",
    "Plots a visualization of the molecular weight (y-axis) as a function of GC-content (x-axis)"
   ]
  },
  {
   "cell_type": "code",
   "execution_count": 18,
   "metadata": {},
   "outputs": [
    {
     "data": {
      "text/plain": [
       "<seaborn.axisgrid.FacetGrid at 0x20ad3ae7d00>"
      ]
     },
     "execution_count": 18,
     "metadata": {},
     "output_type": "execute_result"
    },
    {
     "data": {
      "image/png": "[encoded data removed]",
      "text/plain": [
       "<Figure size 360x360 with 1 Axes>"
      ]
     },
     "metadata": {
      "needs_background": "light"
     },
     "output_type": "display_data"
    }
   ],
   "source": [
    "#Makes a scatterplot of GC content vs. molecular weight\n",
    "sns.lmplot(x=\"GC_percentage\", y=\"molecular_weight\", data=bears_df, fit_reg=False) "
   ]
  },
  {
   "cell_type": "markdown",
   "metadata": {},
   "source": [
    "#### Source:\n",
    "https://eeob-biodata.github.io/BCB546X-python/05-seaborn-viz/"
   ]
  },
  {
   "cell_type": "markdown",
   "metadata": {},
   "source": [
    "## Objective 10\n",
    "Save the new DataFrame to a file called \"bears_mass_cytb.csv\""
   ]
  },
  {
   "cell_type": "code",
   "execution_count": 19,
   "metadata": {},
   "outputs": [],
   "source": [
    "bears_df.to_csv(\"bears_mass_cytb.csv\")"
   ]
  },
  {
   "cell_type": "markdown",
   "metadata": {},
   "source": [
    "#### Source:\n",
    "https://datatofish.com/export-dataframe-to-csv/"
   ]
  },
  {
   "cell_type": "markdown",
   "metadata": {},
   "source": [
    "## Objective 11\n",
    "Optional fun function- Plots Mass and GC content vs species"
   ]
  },
  {
   "cell_type": "code",
   "execution_count": 20,
   "metadata": {},
   "outputs": [
    {
     "data": {
      "image/png": "[encoded data removed]",
      "text/plain": [
       "<Figure size 432x288 with 2 Axes>"
      ]
     },
     "metadata": {
      "needs_background": "light"
     },
     "output_type": "display_data"
    }
   ],
   "source": [
    "#Shows the relationship between GC content and Mass of the bears. Here, there are two different Y-axis values\n",
    "fig, ax1 = plt.subplots()\n",
    "species = bears_df[\"species\"]\n",
    "mass=bears_df[\"mass\"] \n",
    "GC=bears_df[\"GC_percentage\"]\n",
    "plt.xticks(rotation = 90)\n",
    "\n",
    "ax1.set_ylabel('Mass')\n",
    "ax1.set_xlabel('Bear Species')\n",
    "ax1.plot(species,mass)                               \n",
    "\n",
    "\n",
    "\n",
    "ax2 = ax1.twinx()\n",
    "ax2.set_xlabel('Bear Species')\n",
    "ax2.set_ylabel('GC Content')\n",
    "ax2.plot(species,GC,color='green')\n",
    "\n",
    "\n",
    "plt.show()\n",
    "\n",
    "\n"
   ]
  },
  {
   "cell_type": "markdown",
   "metadata": {},
   "source": [
    "#### Sources:\n",
    "https://matplotlib.org/2.1.1/api/_as_gen/matplotlib.pyplot.plot.html;\n",
    "https://matplotlib.org/stable/gallery/subplots_axes_and_figures/two_scales.html"
   ]
  },
  {
   "cell_type": "markdown",
   "metadata": {},
   "source": [
    "## Final Thoughts\n",
    "\n",
    "This analysis looked at 9 species of bear cytochrome B sequences, assessed the GC content, and translated them to amino acid sequences. These amino acid sequences were assessed to determine the molecular weight of each cyotchrome B protein. GC, molecular weight, and bear mass (from the csv file) were compared in visual graphs."
   ]
  }
 ],
 "metadata": {
  "kernelspec": {
   "display_name": "Python 3",
   "language": "python",
   "name": "python3"
  },
  "language_info": {
   "codemirror_mode": {
    "name": "ipython",
    "version": 3
   },
   "file_extension": ".py",
   "mimetype": "text/x-python",
   "name": "python",
   "nbconvert_exporter": "python",
   "pygments_lexer": "ipython3",
   "version": "3.8.5"
  }
 },
 "nbformat": 4,
 "nbformat_minor": 4
}
