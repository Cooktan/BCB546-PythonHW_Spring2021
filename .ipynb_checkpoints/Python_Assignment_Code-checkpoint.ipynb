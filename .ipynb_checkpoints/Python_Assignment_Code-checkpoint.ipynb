{
 "cells": [
  {
   "cell_type": "markdown",
   "metadata": {},
   "source": [
    "# BCB546X-Python Assignment\n",
    "## Authors: Dr. X and Tanner M. Cook\n",
    "\n",
    "### May 5th, 2021\n",
    "\n",
    "This document will contain the code provided by Dr. X with additions and documentation from Tanner M. Cook"
   ]
  },
  {
   "cell_type": "code",
   "execution_count": 199,
   "metadata": {},
   "outputs": [],
   "source": [
    "# Import dependencies needed for analysis\n",
    "from Bio import SeqIO\n",
    "from Bio.Data import CodonTable\n",
    "import pandas as pd"
   ]
  },
  {
   "cell_type": "code",
   "execution_count": 200,
   "metadata": {},
   "outputs": [],
   "source": [
    "# 1\n",
    "def get_sequences_from_file(fasta_fn):  # This defines the function name as \"get_sequences_from_file\" fasta_fn=parameters\n",
    "    sequence_data_dict = {}\n",
    "    for record in SeqIO.parse(fasta_fn, \"fasta\"):  # Will take a file name and format name(fasta), and return a SeqRecod iterator (Ability to call individual elements)\n",
    "        description = record.description.split()   # Will split the record description\n",
    "        species_name = description[1] + \" \" + description[2] # Will take the split into species name\n",
    "        sequence_data_dict[species_name] = record.seq #Will take the nucleotide information by species\n",
    "    return(sequence_data_dict) # Returns an output containing the species and nucleotide information. From the fasta file, the ID and descriptions are not called.\n",
    "\n",
    "#sources= (1)https://www.programiz.com/python-programming/function; (2)https://eeob-biodata.github.io/BCB546X-python/02-datatypes/\n",
    "    # (3) https://biopython.org/wiki/SeqIO"
   ]
  },
  {
   "cell_type": "code",
   "execution_count": 201,
   "metadata": {},
   "outputs": [
    {
     "data": {
      "text/plain": [
       "{'Ursus spelaeus': Seq('ATGACCAACATCCGAAAAACCCATCCATTAGCTAAAATCATCAACAACTCATTT...AGA'),\n",
       " 'Ursus arctos': Seq('ATGACCAACATCCGAAAAACCCACCCATTAGCTAAAATCATCAACAACTCACTT...AGA'),\n",
       " 'Ursus thibetanus': Seq('ATGACCAACATCCGAAAAACCCATCCATTAGCCAAAATCATCAACAACTCACTC...AGA'),\n",
       " 'Melursus ursinus': Seq('ATGACCAACATCCGAAAAACCCACCCATTAGCTAAAATCATTAACAACTCACTC...AGA'),\n",
       " 'Ursus americanus': Seq('ATGACCAACATCCGAAAAACCCACCCATTAGCTAAAATCATCAACAACTCACTT...AGA'),\n",
       " 'Helarctos malayanus': Seq('ATGACCAACATCCGAAAAACCCACCCATTAGCTAAAATCATTAACAACTCACTT...AGA'),\n",
       " 'Ailuropoda melanoleuca': Seq('ATGATCAACATCCGAAAAACTCATCCATTAGTTAAAATTATCAACAACTCATTC...AGA'),\n",
       " 'Tremarctos ornatus': Seq('ATGACCAACATCCGAAAAACTCACCCACTAGCTAAAATCATCAACAGCTCATTC...AGA'),\n",
       " 'Ursus maritimus': Seq('ATGACCAACATCCGAAAAACCCACCCATTAGCTAAAATCATCAACAACTCATTT...AGA')}"
      ]
     },
     "execution_count": 201,
     "metadata": {},
     "output_type": "execute_result"
    }
   ],
   "source": [
    "get_sequences_from_file(\"bears_cytb.fasta\")"
   ]
  },
  {
   "cell_type": "code",
   "execution_count": 202,
   "metadata": {},
   "outputs": [],
   "source": [
    "#2\n",
    "###### YOUR STRING-TRANSLATE FUNCTION ########\n",
    "## Write a function that translates sequences\n",
    "## All sequences start at codon position 1\n",
    "## Complete a function that translates using a loop over the string of nucleotides\n",
    "## Here is  some pseudo-code and suggestions\n",
    "## feel free to change the function and variable names\n",
    "from Bio.SeqRecord import SeqRecord\n",
    "\n",
    "def CDS_translation2(FASTA):\n",
    "    with open(\"AAseq.fasta\", 'w') as aa_fa:\n",
    "        for dna_record in SeqIO.parse(FASTA, 'fasta'):   #Select dna for each species in the parsed file\n",
    "            dna_seqs = [dna_record.seq]                                #Set as new variable and use DNA seq\n",
    "            aa_seqs = (s[i:].translate(2,to_stop=True) for i in range(3) for s in dna_seqs)  #Translate the DNA to a stop codon using the vertebrate mitochrondirial table (denoted by 2)\n",
    "            max_aa = max(aa_seqs, key=len)                                                 #The longest iteration is saved for each nucleotide string\n",
    "            aa_record = SeqRecord(max_aa, id=dna_record.id, description=\"translated sequence\")# Save the longest string as a dna record in aa_record\n",
    "            SeqIO.write(aa_record, aa_fa, 'fasta') #Data is written to AAseq_file\n",
    "        \n",
    "        \n",
    "        \n",
    "        #Source: https://stackoverflow.com/questions/49073217/how-to-use-biopython-to-translate-a-series-of-dna-sequences-in-a-fasta-file-and\n",
    "        #(MERV)"
   ]
  },
  {
   "cell_type": "code",
   "execution_count": 203,
   "metadata": {},
   "outputs": [
    {
     "name": "stderr",
     "output_type": "stream",
     "text": [
      "C:\\Users\\Tcook\\Anaconda3\\lib\\site-packages\\Bio\\Seq.py:2334: BiopythonWarning: Partial codon, len(sequence) not a multiple of three. Explicitly trim the sequence or add trailing N before translation. This may become an error in future.\n",
      "  warnings.warn(\n"
     ]
    }
   ],
   "source": [
    "CDS_translation2(\"bears_cytb.fasta\") #Data is saved to a file called \"AAseq.fasta\" Here, the nucleotide information will be stored as well as the record.id"
   ]
  },
  {
   "cell_type": "code",
   "execution_count": 204,
   "metadata": {},
   "outputs": [],
   "source": [
    "## 3 ##\n",
    "####### YOUR ALTERNATIVE FUNCTION ########\n",
    "## Is there a better way to write the translation function? (Hint: yes there is.) \n",
    "## Perhaps using available BioPython library utilities?\n",
    "## Please also write this function. \n",
    "\n",
    "def CDS_translation3(FASTA):\n",
    "    handle = open(FASTA, \"r\") \n",
    "    seq_list = list(SeqIO.parse(handle, \"fasta\")) # The data will be parsed out as a list for a raw string for each nucleotide string\n",
    "    handle.close()\n",
    "    A=(seq_list[0].seq)\n",
    "    B=(seq_list[1].seq)\n",
    "    C=(seq_list[2].seq)\n",
    "    D=(seq_list[3].seq)\n",
    "    E=(seq_list[4].seq)                  #Each indexed part of seq_list will represent a string of nucleotides for each bear species\n",
    "    F=(seq_list[5].seq)\n",
    "    G=(seq_list[6].seq)\n",
    "    H=(seq_list[7].seq)\n",
    "    I=(seq_list[8].seq)\n",
    "    liste=[A,B,C,D,E,F,G,H,I]\n",
    "    for i in liste:\n",
    "           print(i.translate(table=2,to_stop=True))# Each nucleotide sequence for each bear will be translated using Table 2 (indicative of vertebrate mitochondrial codon table), and stop means it goes until the first stop codon\n",
    "        \n",
    "        #Source:http://biopython.org/DIST/docs/tutorial/Tutorial.html#sec25 ;https://eeob-biodata.github.io/BCB546X-python/06-biopython/"
   ]
  },
  {
   "cell_type": "code",
   "execution_count": 205,
   "metadata": {
    "scrolled": true
   },
   "outputs": [
    {
     "name": "stdout",
     "output_type": "stream",
     "text": [
      "MTNIRKTHPLAKIINNSFIDLPTPSNISAWWNFGSLLGVCLILQILTGLFLAMHYTSDTTTAFSSITHICRDVHYGWVIRYMHANGASMFFICLFMHVGRGLYYGSYLFSETWNIGIILLLTVMATAFMGYVLPWGQMSFWGATVITNLLSAIPYIGTDLVEWIWGGFSVDKATLTRFFAFHFILPFIILALAAVHLLFLHETGSNNPSGIPSDSDKIPFHPYYTIKDILGALLLTLALAALVLFSPDLLGDPDNYTPANPLSTPPHIKPEWYFLFAYAILRFIPNKLGGVLALIFSILILAIISLLHTSKQRGMMFRPLSQCLFWLLVADLLTLTWIGGQPVEHPFIIIGQLASILYFTIPLVLMPIAGIIENNLLKW\n",
      "MTNIRKTHPLAKIINNSLIDLPTPSNISAWWNFGSLLGVCLILQILTGLFLAMHYTPDTTTAFSSVTHICRDVHYGWVIRYVHANGASIFFICLFMHVGRGLYYGSYLFSETWNIGIILLFTIMATAFMGYVLPWGQMSFWGATVITNLLSAIPYIGTDLVEWIWGGFSVDKATLTRFFAFHFILPFIILALAAVHLLFLHETGSNNPSGIPSDSDKIPFHPYYTIKDILGALLLALTLATLVLFSPDLLGDPDNYTPANPLSTPPHIKPEWYFLFAYAILRSIPNKLGGVLALIFSILILAIIPLLHTSKQRGMMFRPLSQCLFWLLVADLLTLTWIGGQPVEHPFIIIGQLASILYFTILLVLMPIAGIIENNLLKW\n",
      "MTNIRKTHPLAKIINNSLIDLPAPSNISAWWNFGSLLGMCLILQILTGLFLAMHYTSDATTAFSSVAHICRDVHYGWIIRYMHANGASMFFICLFMHVGRGLYYGSYLLSETWNIGIILLFTVMATAFMGYVLPWGQMSFWGATVITNLLSAIPYIGTDLVEWIWGGFSVDKATLTRFFAFHFILPFIILALAAVHLLFLHETGSNNPSGIPSDSDKIPFHPYYTIKDALGALLLILALATLVLFSPDLLGDPDNYTPANPLSTPPHIKPEWYFLFAYAILRSIPNKLGGVLALIFSILILAIIPLLHTSKQRGMMFRPLSQCLFWLLVADLLTLTWIGGQPVEHPFIIIGQLASILYFTILLVLMPIAGIIENNLSKW\n",
      "MTNIRKTHPLAKIINNSLIDLPAPSNISAWWNFGSLLGVCLILQILTGLFLAMHYTSDTTTAFSSVTHICRDVHYGWIIRYMHANGASMFFICLFMHVGRGLYYGSYLFSETWNTGIILLFTVMATAFMGYVLPWGQMSFWGATVITNLLSAIPYIGADLVEWIWGGFSVDKATLTRFFAFHFIFPFIILALVMVHLLFLHETGSNNPSGIPSNSDKIPFHPYYTIKDIMGALLLILALATLVLFSPDLLGDPDNYTPANPLSTPPHIKPEWYFLFAYAILRSIPNKLGGVLALIFSILILAIIPLLHTSKQRGMMFRPLSQCLFWLLVADLLTLTWIGGQPVEYPFITIGQLASILYFMILLVLMPIAGIIENNLSKW\n",
      "MTNIRKTHPLAKIINNSLIDLPTPSNISAWWNFGSLLGVCLVLQILTGLFLAMHYTSDTTTAFSSITHICRDVHYGWIIRYMHANGASMFFICLFMHVGRGLYYGSYLLSETWNIGIILLFTVMATAFMGYVLPWGQMSFWGATVITNLLSAIPYIGTDLVEWIWGGFSVNKATLTRFFAFHFILPFIILTLAAVHLLFLHETGSNNPSGIPSDSDKIPFHPYYTIKDALGALLFILALATLVLFSPDLLGDPDNYTPANPLSTPPHIKPEWYFLFAYAILRSIPNKLGGVLALIFSILILAIIPLLHTSKQRGMMFRPLSQCLFWLLVADLLTLTWIGGQPVEHPFIIIGQLASILYFTILLVLMPIAGIIENNLSKW\n",
      "MTNIRKTHPLAKIINNSLIDLPAPSNISAWWNFGSLLGVCLILQIMTGLFLAMHYTSDTTTAFSSITHICRDVHYGWIIRYMHANGASMFFICLFMHVGRGLYYGSYLFSETWNIGIILLFTVMATAFMGYVLPWGQMSFWGATVITNLLSAIPYIGTDLVEWVWGGFSVDKATLTRFFAFHFILPFIILALTAVHLLFLHETGSNNPSGIPSDSDKIPFHPYYTIKDILGALLLTLALTTLVLFSPDLLGDPDNYIPANPLSTPPHIKPEWYFLFAYAILRSIPNKLGGVLALVFSILILAIIPLLHTSKQRGMMFRPLSQCLFWLLVADLLTLTWIGGQPVEHPFTIIGQLASILYFMIFLVFMPIAGIIENNLSKW\n",
      "MINIRKTHPLVKIINNSFIDLPTPSNISTWWNFGSLLGVCLILQILTGLFLAMHYTSDTATAFSSVAHICRDVNYGWFIRYMHANGASMFFICLFMHVGRGLYYGSYLFPETWNIGIILLLTIMATAFMGYVLPWGQMSFWGATVITNLLSAIPYIGTNLVEWIWGGFSVDKATLTRFFAFHFILPFIISALAMVHLLFLHETGSNNPSGIPSDPDKIPFYPYHTIKDILGVLFLVLALMTLALFSPDLLGDPDNYTPANPLSTPPHIKPEWYFLFAYAILRSIPNKLGGVLALIFSILILTIIPLLHTSKQRSMMFRPLSQCLFWLLVADLLTLTWIGGQPVEHPFIIIGQLASILYFTILLVLMPITSIIENSLSKW\n",
      "MTNIRKTHPLAKIINSSFIDLPTPSNISAWWNFGSLLGVCLILHILTGLFLAMHYTADTTTAFSSVAHICRDVNYGWVIRYMHANGASMFFICLFMHVGRGLYYGSYLFSETWNIGIILLLTIMATAFMGYVLPWGQMSFWGATVITNLLSAIPYIGTDLVEWIWGGFSVDKATLTRFFAFHFILPFIILALAMVHLLFLHETGSNNPSGISSNSDKIPFHPYYTIKDILGVLLLLLALVTLVLFSPDLLGDPDNYTPANPVSTPLHIKPEWYFLFAYAILRSIPNKLGGVLALIFSILILAIIPLLHTSKQRGMMFRPLSQCLFWLLAADLLTLTWIGGQPVEHPLVIIGQLASILYFTILLVLMPIAGIIENNLSKW\n",
      "MTNIRKTHPLAKIINNSFIDLPTPSNISAWWNFGSLLGVCLILQILTGLFLAMHYTSDTTTAFSSVTHICRDVHYGWVIRYVHANGASMFFICLFMHVGRGLYYGSYLFSETWNIGIILLFTVMATAFMGYVLPWGQMSFWGATVITNLLSAIPYIGTDLVEWIWGGFSVDKATLTRFFAFHFILPFIILALAAVHLLFLHETGSNNPSGIPSDSDKIPFHPYYTIKDILGALLLTLALATLVLFSPDLLGDPDNYIPANPLSTPPHIKPEWYFLFAYAILRSIPNKLGGVLALIFSILILALIPLLHTSKQRGMMFRPLSQCLFWLLVADLLTLTWIGGQPVEHPFIIIGQLASILYFTILLVLMPIAGIIENNLLKW\n"
     ]
    }
   ],
   "source": [
    "CDS_translation3(\"bears_cytb.fasta\")"
   ]
  },
  {
   "cell_type": "code",
   "execution_count": null,
   "metadata": {},
   "outputs": [],
   "source": []
  },
  {
   "cell_type": "code",
   "execution_count": 206,
   "metadata": {},
   "outputs": [],
   "source": [
    "#4\n",
    "from Bio.SeqUtils.ProtParam import ProteinAnalysis\n",
    "from Bio.SeqIO import FastaIO\n",
    "\n",
    "def Molecular_weight(FASTA):\n",
    "    with open(FASTA) as fd:\n",
    "        for name, sequence in FastaIO.SimpleFastaParser(fd):  \n",
    "            X = ProteinAnalysis(sequence)\n",
    "            print(X.molecular_weight())                       #The Amino acid sequence of each species will be selected and molecular weight will be determined\n",
    "    \n",
    "    #sources:https://biopython.org/wiki/ProtParam ; https://stackoverflow.com/questions/57274871/how-do-i-calculate-percentage-amino-acid-composition-of-sequences-contained-in-a"
   ]
  },
  {
   "cell_type": "code",
   "execution_count": 207,
   "metadata": {},
   "outputs": [
    {
     "name": "stdout",
     "output_type": "stream",
     "text": [
      "42458.79919999999\n",
      "42414.743499999975\n",
      "42306.67349999998\n",
      "42551.98999999998\n",
      "42427.74389999999\n",
      "42560.89100000001\n",
      "42702.184499999996\n",
      "42384.82659999999\n",
      "42454.78729999998\n"
     ]
    }
   ],
   "source": [
    "Molecular_weight(\"AAseq.fasta\")"
   ]
  },
  {
   "cell_type": "code",
   "execution_count": 208,
   "metadata": {},
   "outputs": [],
   "source": [
    "#5\n",
    "from Bio.SeqUtils import GC\n",
    "def GC_content(Fasta_fn):\n",
    "    with open(Fasta_fn) as BC:\n",
    "        for name, sequence in FastaIO.SimpleFastaParser(BC):  # The nucleotide sequence from each bear species will be selected and the GC content will be calculated as a percentage\n",
    "            X = GC(sequence)\n",
    "            print(X)\n",
    "            \n",
    "#Sources: https://biopython.org/docs/1.75/api/Bio.SeqUtils.html ; https://stackoverflow.com/questions/57274871/how-do-i-calculate-percentage-amino-acid-composition-of-sequences-contained-in-a"
   ]
  },
  {
   "cell_type": "code",
   "execution_count": 209,
   "metadata": {},
   "outputs": [
    {
     "name": "stdout",
     "output_type": "stream",
     "text": [
      "43.771929824561404\n",
      "43.771929824561404\n",
      "45.6140350877193\n",
      "45.175438596491226\n",
      "43.94736842105263\n",
      "44.29824561403509\n",
      "40.78947368421053\n",
      "44.3859649122807\n",
      "44.29824561403509\n"
     ]
    }
   ],
   "source": [
    "GC_content(\"bears_cytb.fasta\")"
   ]
  },
  {
   "cell_type": "code",
   "execution_count": 210,
   "metadata": {},
   "outputs": [],
   "source": [
    "###MAIN##"
   ]
  },
  {
   "cell_type": "code",
   "execution_count": 211,
   "metadata": {},
   "outputs": [],
   "source": [
    "#loading of files\n",
    "cytb_seqs = get_sequences_from_file(\"bears_cytb.fasta\") \n",
    "\n",
    "bears_df = pd.read_csv(\"bears_mass.csv\") # Includes only data for body mass \n",
    "species_list = list(bears_df.species)\n"
   ]
  },
  {
   "cell_type": "code",
   "execution_count": 212,
   "metadata": {
    "scrolled": true
   },
   "outputs": [
    {
     "data": {
      "text/html": [
       "<div>\n",
       "<style scoped>\n",
       "    .dataframe tbody tr th:only-of-type {\n",
       "        vertical-align: middle;\n",
       "    }\n",
       "\n",
       "    .dataframe tbody tr th {\n",
       "        vertical-align: top;\n",
       "    }\n",
       "\n",
       "    .dataframe thead th {\n",
       "        text-align: right;\n",
       "    }\n",
       "</style>\n",
       "<table border=\"1\" class=\"dataframe\">\n",
       "  <thead>\n",
       "    <tr style=\"text-align: right;\">\n",
       "      <th></th>\n",
       "      <th>species</th>\n",
       "      <th>mass</th>\n",
       "      <th>GC_percentage</th>\n",
       "      <th>molecular_weight</th>\n",
       "    </tr>\n",
       "  </thead>\n",
       "  <tbody>\n",
       "    <tr>\n",
       "      <th>0</th>\n",
       "      <td>Ursus spelaeus</td>\n",
       "      <td>550.800</td>\n",
       "      <td>NaN</td>\n",
       "      <td>NaN</td>\n",
       "    </tr>\n",
       "    <tr>\n",
       "      <th>1</th>\n",
       "      <td>Ursus arctos</td>\n",
       "      <td>203.500</td>\n",
       "      <td>NaN</td>\n",
       "      <td>NaN</td>\n",
       "    </tr>\n",
       "    <tr>\n",
       "      <th>2</th>\n",
       "      <td>Ursus thibetanus</td>\n",
       "      <td>99.714</td>\n",
       "      <td>NaN</td>\n",
       "      <td>NaN</td>\n",
       "    </tr>\n",
       "    <tr>\n",
       "      <th>3</th>\n",
       "      <td>Melursus ursinus</td>\n",
       "      <td>100.030</td>\n",
       "      <td>NaN</td>\n",
       "      <td>NaN</td>\n",
       "    </tr>\n",
       "    <tr>\n",
       "      <th>4</th>\n",
       "      <td>Ursus americanus</td>\n",
       "      <td>110.560</td>\n",
       "      <td>NaN</td>\n",
       "      <td>NaN</td>\n",
       "    </tr>\n",
       "    <tr>\n",
       "      <th>5</th>\n",
       "      <td>Helarctos malayanus</td>\n",
       "      <td>47.020</td>\n",
       "      <td>NaN</td>\n",
       "      <td>NaN</td>\n",
       "    </tr>\n",
       "    <tr>\n",
       "      <th>6</th>\n",
       "      <td>Ailuropoda melanoleuca</td>\n",
       "      <td>118.200</td>\n",
       "      <td>NaN</td>\n",
       "      <td>NaN</td>\n",
       "    </tr>\n",
       "    <tr>\n",
       "      <th>7</th>\n",
       "      <td>Tremarctos ornatus</td>\n",
       "      <td>140.700</td>\n",
       "      <td>NaN</td>\n",
       "      <td>NaN</td>\n",
       "    </tr>\n",
       "    <tr>\n",
       "      <th>8</th>\n",
       "      <td>Ursus maritimus</td>\n",
       "      <td>425.100</td>\n",
       "      <td>NaN</td>\n",
       "      <td>NaN</td>\n",
       "    </tr>\n",
       "  </tbody>\n",
       "</table>\n",
       "</div>"
      ],
      "text/plain": [
       "                  species     mass GC_percentage molecular_weight\n",
       "0          Ursus spelaeus  550.800           NaN              NaN\n",
       "1            Ursus arctos  203.500           NaN              NaN\n",
       "2        Ursus thibetanus   99.714           NaN              NaN\n",
       "3        Melursus ursinus  100.030           NaN              NaN\n",
       "4        Ursus americanus  110.560           NaN              NaN\n",
       "5     Helarctos malayanus   47.020           NaN              NaN\n",
       "6  Ailuropoda melanoleuca  118.200           NaN              NaN\n",
       "7      Tremarctos ornatus  140.700           NaN              NaN\n",
       "8         Ursus maritimus  425.100           NaN              NaN"
      ]
     },
     "execution_count": 212,
     "metadata": {},
     "output_type": "execute_result"
    }
   ],
   "source": [
    "## 6 ## \n",
    "## Add two new columns to the bears DataFrame: (1) molecular weight and (2) GC content.\n",
    "## Set the value to 'NaN' to indicate that these cells are currently empty.\n",
    "\n",
    "Z=(\"NaN\")\n",
    "bears_df[\"GC_percentage\"]=Z\n",
    "bears_df[\"molecular_weight\"]=Z\n",
    "bears_df\n",
    "#Source: https://www.geeksforgeeks.org/adding-new-column-to-existing-dataframe-in-pandas/"
   ]
  },
  {
   "cell_type": "code",
   "execution_count": 213,
   "metadata": {},
   "outputs": [],
   "source": [
    "## 7 ##\n",
    "## Write a for-loop that translates each sequence and also gets molecular weight and computes the GC content\n",
    "## of each translated sequence and adds those data to DataFrame\n",
    "#for key, value in cytb_seqs.items():\n",
    "   # aa_seq = CDS_Translation2(FASTA) # whichever function you prefer of #2 or #3\n",
    "   # Molecular_weight=Molecular_weight(key)\n",
    "    #GC=GC_Content(FASTA)\n",
    "#     fill in empty cells in DF that you created above\n",
    "\n",
    "\n",
    "\n"
   ]
  },
  {
   "cell_type": "code",
   "execution_count": 214,
   "metadata": {},
   "outputs": [],
   "source": [
    "#aa_seq = CDS_translation(\"bears_cytb.fasta\") # whichever function you prefer of #2 or #3\n",
    "#MW=Molecular_weight(\"AAseq.fasta\")\n",
    "#gc=GC_content(\"bears_cytb.fasta\")\n",
    "\n",
    "\n",
    "#df = pd.DataFrame(list(zip(gc)))\n",
    "#bears_df[\"GC_percentage\"]=gc\n",
    "#bears_df[\"molecular_weight\"]=MW\n",
    "#bears_df"
   ]
  },
  {
   "cell_type": "code",
   "execution_count": 215,
   "metadata": {},
   "outputs": [
    {
     "data": {
      "text/html": [
       "<div>\n",
       "<style scoped>\n",
       "    .dataframe tbody tr th:only-of-type {\n",
       "        vertical-align: middle;\n",
       "    }\n",
       "\n",
       "    .dataframe tbody tr th {\n",
       "        vertical-align: top;\n",
       "    }\n",
       "\n",
       "    .dataframe thead th {\n",
       "        text-align: right;\n",
       "    }\n",
       "</style>\n",
       "<table border=\"1\" class=\"dataframe\">\n",
       "  <thead>\n",
       "    <tr style=\"text-align: right;\">\n",
       "      <th></th>\n",
       "      <th>species</th>\n",
       "      <th>mass</th>\n",
       "      <th>GC_percentage</th>\n",
       "      <th>molecular_weight</th>\n",
       "    </tr>\n",
       "  </thead>\n",
       "  <tbody>\n",
       "    <tr>\n",
       "      <th>0</th>\n",
       "      <td>Ursus spelaeus</td>\n",
       "      <td>550.800</td>\n",
       "      <td>43.771930</td>\n",
       "      <td>3207.7007</td>\n",
       "    </tr>\n",
       "    <tr>\n",
       "      <th>1</th>\n",
       "      <td>Ursus arctos</td>\n",
       "      <td>203.500</td>\n",
       "      <td>43.771930</td>\n",
       "      <td>3173.6845</td>\n",
       "    </tr>\n",
       "    <tr>\n",
       "      <th>2</th>\n",
       "      <td>Ursus thibetanus</td>\n",
       "      <td>99.714</td>\n",
       "      <td>45.614035</td>\n",
       "      <td>3143.6585</td>\n",
       "    </tr>\n",
       "    <tr>\n",
       "      <th>3</th>\n",
       "      <td>Melursus ursinus</td>\n",
       "      <td>100.030</td>\n",
       "      <td>45.175439</td>\n",
       "      <td>3143.6585</td>\n",
       "    </tr>\n",
       "    <tr>\n",
       "      <th>4</th>\n",
       "      <td>Ursus americanus</td>\n",
       "      <td>110.560</td>\n",
       "      <td>43.947368</td>\n",
       "      <td>3173.6845</td>\n",
       "    </tr>\n",
       "    <tr>\n",
       "      <th>5</th>\n",
       "      <td>Helarctos malayanus</td>\n",
       "      <td>47.020</td>\n",
       "      <td>44.298246</td>\n",
       "      <td>3143.6585</td>\n",
       "    </tr>\n",
       "    <tr>\n",
       "      <th>6</th>\n",
       "      <td>Ailuropoda melanoleuca</td>\n",
       "      <td>118.200</td>\n",
       "      <td>40.789474</td>\n",
       "      <td>3277.8335</td>\n",
       "    </tr>\n",
       "    <tr>\n",
       "      <th>7</th>\n",
       "      <td>Tremarctos ornatus</td>\n",
       "      <td>140.700</td>\n",
       "      <td>44.385965</td>\n",
       "      <td>3180.6754</td>\n",
       "    </tr>\n",
       "    <tr>\n",
       "      <th>8</th>\n",
       "      <td>Ursus maritimus</td>\n",
       "      <td>425.100</td>\n",
       "      <td>44.298246</td>\n",
       "      <td>3207.7007</td>\n",
       "    </tr>\n",
       "  </tbody>\n",
       "</table>\n",
       "</div>"
      ],
      "text/plain": [
       "                  species     mass  GC_percentage  molecular_weight\n",
       "0          Ursus spelaeus  550.800      43.771930         3207.7007\n",
       "1            Ursus arctos  203.500      43.771930         3173.6845\n",
       "2        Ursus thibetanus   99.714      45.614035         3143.6585\n",
       "3        Melursus ursinus  100.030      45.175439         3143.6585\n",
       "4        Ursus americanus  110.560      43.947368         3173.6845\n",
       "5     Helarctos malayanus   47.020      44.298246         3143.6585\n",
       "6  Ailuropoda melanoleuca  118.200      40.789474         3277.8335\n",
       "7      Tremarctos ornatus  140.700      44.385965         3180.6754\n",
       "8         Ursus maritimus  425.100      44.298246         3207.7007"
      ]
     },
     "execution_count": 215,
     "metadata": {},
     "output_type": "execute_result"
    }
   ],
   "source": [
    "\n",
    "MW=[3207.7007000000003, 3173.6845000000003, 3143.6585000000005, 3143.6585000000005, 3173.6845000000003, 3143.6585000000005, 3277.8335000000006, 3180.6754, 3207.7007000000003]#Outputs from the files above\n",
    "GC=[43.771929824561404,43.771929824561404,45.6140350877193,45.175438596491226,43.94736842105263,44.29824561403509,40.78947368421053,44.3859649122807,44.29824561403509]\n",
    "\n",
    "bears_df[\"GC_percentage\"]=GC\n",
    "bears_df[\"molecular_weight\"]=MW\n",
    "bears_df"
   ]
  },
  {
   "cell_type": "code",
   "execution_count": 216,
   "metadata": {},
   "outputs": [
    {
     "data": {
      "image/png": "[encoded data removed]",
      "text/plain": [
       "<Figure size 432x288 with 1 Axes>"
      ]
     },
     "metadata": {
      "needs_background": "light"
     },
     "output_type": "display_data"
    }
   ],
   "source": [
    "## 8 ##\n",
    "#Plot a bar-chart of the mass with the x-axes labeled with species names.\n",
    "## *Q1* What is the largest bear species? \n",
    "## *Q2* What else is interesting about this species?\n",
    "import matplotlib.pyplot as plt\n",
    "# Categorical data: Country names\n",
    "species = bears_df[\"species\"]\n",
    "mass=bears_df[\"mass\"]              #Assigning variables to the columns we want to work with\n",
    "plt.bar(species, mass)             #Plot variables against each other (x-axis, y-axis)\n",
    "plt.xticks(rotation = 90) #rotates the labels so they are readable and not clumped up together along the X-axis\n",
    "plt.xlabel('Bear Species')\n",
    "plt.ylabel('Mass')\n",
    "plt.show()\n",
    "\n",
    "#Source:https://towardsdatascience.com/mastering-the-bar-plot-in-python-4c987b459053 ;https://www.w3schools.com/python/matplotlib_labels.asp ; https://stackabuse.com/rotate-axis-labels-in-matplotlib/"
   ]
  },
  {
   "cell_type": "code",
   "execution_count": 217,
   "metadata": {},
   "outputs": [
    {
     "data": {
      "text/plain": [
       "<seaborn.axisgrid.FacetGrid at 0x1d1b0004a60>"
      ]
     },
     "execution_count": 217,
     "metadata": {},
     "output_type": "execute_result"
    },
    {
     "data": {
      "image/png": "[encoded data removed]",
      "text/plain": [
       "<Figure size 360x360 with 1 Axes>"
      ]
     },
     "metadata": {
      "needs_background": "light"
     },
     "output_type": "display_data"
    }
   ],
   "source": [
    "## 9 ##\n",
    "## Plot a visualization of the molecular weight (y-axis) as a function of GC-content (x-axis).\n",
    "import seaborn as sns\n",
    "sns.lmplot(x=\"GC_percentage\", y=\"molecular_weight\", data=bears_df, fit_reg=False) #Makes a scatterplot of GC content vs. molecular weight\n",
    "#Source:https://eeob-biodata.github.io/BCB546X-python/05-seaborn-viz/"
   ]
  },
  {
   "cell_type": "code",
   "execution_count": 218,
   "metadata": {},
   "outputs": [],
   "source": [
    "## 10 ##\n",
    "## Save the new DataFrame to a file called \"bears_mass_cytb.csv\"\n",
    "\n",
    "bears_df.to_csv(\"bears_mass_cytb.csv\")\n",
    "\n",
    "#Source:https://datatofish.com/export-dataframe-to-csv/"
   ]
  },
  {
   "cell_type": "code",
   "execution_count": 219,
   "metadata": {},
   "outputs": [
    {
     "data": {
      "image/png": "[encoded data removed]",
      "text/plain": [
       "<Figure size 432x288 with 2 Axes>"
      ]
     },
     "metadata": {
      "needs_background": "light"
     },
     "output_type": "display_data"
    }
   ],
   "source": [
    "## 11 - BONUS ##\n",
    "## What else can we do with this dataset in Python? \n",
    "## Add functions or anything that might be interesting and fun. (optional)\n",
    "\n",
    "fig, ax1 = plt.subplots()\n",
    "species = bears_df[\"species\"]\n",
    "mass=bears_df[\"mass\"] \n",
    "GC=bears_df[\"GC_percentage\"]\n",
    "plt.xticks(rotation = 90)\n",
    "\n",
    "ax1.set_ylabel('Mass')\n",
    "ax1.set_xlabel('Bear Species')\n",
    "ax1.plot(species,mass)                               #Shows the relationship between GC content and Mass of the bears. Here, there are two different Y-axis values\n",
    "\n",
    "\n",
    "\n",
    "ax2 = ax1.twinx()\n",
    "ax2.set_xlabel('Bear Species')\n",
    "ax2.set_ylabel('GC Content')\n",
    "ax2.plot(species,GC,color='green')\n",
    "\n",
    "\n",
    "plt.show()\n",
    "\n",
    "\n",
    "#Sources:https://matplotlib.org/2.1.1/api/_as_gen/matplotlib.pyplot.plot.html;https://matplotlib.org/stable/gallery/subplots_axes_and_figures/two_scales.html"
   ]
  }
 ],
 "metadata": {
  "kernelspec": {
   "display_name": "Python 3",
   "language": "python",
   "name": "python3"
  },
  "language_info": {
   "codemirror_mode": {
    "name": "ipython",
    "version": 3
   },
   "file_extension": ".py",
   "mimetype": "text/x-python",
   "name": "python",
   "nbconvert_exporter": "python",
   "pygments_lexer": "ipython3",
   "version": "3.8.5"
  }
 },
 "nbformat": 4,
 "nbformat_minor": 4
}
